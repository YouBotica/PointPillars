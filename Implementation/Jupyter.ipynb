{
 "cells": [
  {
   "cell_type": "code",
   "execution_count": null,
   "metadata": {},
   "outputs": [],
   "source": [
    "import os\n",
    "import pdb\n",
    "import torch\n",
    "import numpy as np\n",
    "from torch.utils.data import Dataset, DataLoader, random_split\n",
    "import random\n",
    "\n",
    "\n",
    "#/home/adlink/Documents/ECE-57000/ClassProject/Candidate2/PointPillars/dataset/kitti\n",
    "\n",
    "class KITTIDataset(Dataset):\n",
    "    def __init__(self, root_dir, debug=False):\n",
    "        \"\"\"\n",
    "        Args:\n",
    "            root_dir (string): Directory with all the point clouds.\n",
    "        \"\"\"\n",
    "        self.root_dir = root_dir\n",
    "        if (not debug):\n",
    "            self.files = [f for f in os.listdir(root_dir) if os.path.isfile(os.path.join(root_dir, f))]\n",
    "        else:\n",
    "            random_sample = random.randint(1, 7400)\n",
    "            pdb.set_trace()\n",
    "            os.listdir(root_dir)\n",
    "        \n",
    "\n",
    "    def __len__(self):\n",
    "        return len(self.files)\n",
    "\n",
    "    def __getitem__(self, idx):\n",
    "        point_cloud_path = os.path.join(self.root_dir, self.files[idx])\n",
    "        point_cloud = torch.load(point_cloud_path)  # Assuming point clouds are stored as .pt files\n",
    "        return point_cloud\n",
    "\n",
    "\n",
    "train_set = KITTIDataset(root_dir='/home/adlink/Documents/ECE-57000/ClassProject/Candidate2/PointPillars/dataset/kitti/training/velodyne_reduced', debug=False)\n",
    "test_set = KITTIDataset(root_dir='/home/adlink/Documents/ECE-57000/ClassProject/Candidate2/PointPillars/dataset/kitti/testing/velodyne_reduced', debug=False)\n",
    "\n",
    "\n",
    "\n",
    "\n",
    "\n"
   ]
  },
  {
   "cell_type": "code",
   "execution_count": null,
   "metadata": {},
   "outputs": [],
   "source": [
    "print(len(train_set))"
   ]
  }
 ],
 "metadata": {
  "language_info": {
   "name": "python"
  }
 },
 "nbformat": 4,
 "nbformat_minor": 2
}
