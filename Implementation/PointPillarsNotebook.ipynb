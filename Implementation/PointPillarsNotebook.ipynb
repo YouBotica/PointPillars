{
 "cells": [
  {
   "cell_type": "code",
   "execution_count": 1,
   "id": "42732c6f",
   "metadata": {},
   "outputs": [
    {
     "name": "stdout",
     "output_type": "stream",
     "text": [
      "Jupyter environment detected. Enabling Open3D WebVisualizer.\n",
      "[Open3D INFO] WebRTC GUI backend enabled.\n",
      "[Open3D INFO] WebRTCWindowSystem: HTTP handshake server disabled.\n",
      "Can I can use GPU now? -- True\n"
     ]
    }
   ],
   "source": [
    "\n",
    "import os\n",
    "import pdb\n",
    "import torch\n",
    "import numpy as np\n",
    "from torch.utils.data import Dataset, DataLoader, random_split\n",
    "import matplotlib.pyplot as plt\n",
    "from mpl_toolkits.mplot3d import Axes3D\n",
    "import torch.nn as nn\n",
    "import random\n",
    "import ipdb\n",
    "\n",
    "# Pipelines (a.k.a parts of the Neural Network)\n",
    "from Pipelines.kitti_loader import KITTIDataset\n",
    "from Pipelines.pillarizer import PillarFeatureNet, Pillarization, PseudoImageDataset\n",
    "from Pipelines.backbone import BackBone\n",
    "from Pipelines.detection_head import DetectionHead\n",
    "\n",
    "# Visualization tools:\n",
    "from Visualization.visz_pointcloud_w_label import plot_point_cloud_with_bboxes_o3d\n",
    "\n",
    "\n",
    "print(f'Can I can use GPU now? -- {torch.cuda.is_available()}')\n"
   ]
  },
  {
   "cell_type": "markdown",
   "id": "35dc7870",
   "metadata": {},
   "source": [
    "Load data from the KITTI dataset and perform train-test split:\n"
   ]
  },
  {
   "cell_type": "code",
   "execution_count": 2,
   "id": "b209d378",
   "metadata": {},
   "outputs": [],
   "source": [
    "#train_pointclouds_full_dir = '/home/adlink/Documents/ECE-57000/ClassProject/Candidate2/PointPillars/dataset/kitti/training/velodyne'\n",
    "\n",
    "train_pointclouds_dir = '/home/adlink/Documents/ECE-57000/ClassProject/Candidate2/PointPillars/dataset/kitti/training/velodyne_reduced'\n",
    "train_labels_dir = '/home/adlink/Documents/ECE-57000/ClassProject/Candidate2/PointPillars/dataset/kitti/training/label_2'\n",
    "test_pointclouds_dir = '/home/adlink/Documents/ECE-57000/ClassProject/Candidate2/PointPillars/dataset/kitti/testing/velodyne_reduced'\n",
    "\n",
    "train_set = KITTIDataset(pointcloud_dir=train_pointclouds_dir, labels_dir=train_labels_dir)\n",
    "\n",
    "# Neural Network Parameters:\n",
    "AUG_DIM = 9\n",
    "MAX_POINTS_PER_PILLAR = 100\n",
    "MAX_FILLED_PILLARS = 12000\n",
    "X_MIN = 0.0\n",
    "X_MAX = 70.4\n",
    "Y_MIN = -40.0\n",
    "Y_MAX = 40.0\n",
    "Z_MIN = -3.0\n",
    "Z_MAX = 1.0\n",
    "PILLAR_SIZE = (0.16, 0.16)\n",
    "\n",
    "# TODO: Add Loader for test set (No labels)"
   ]
  },
  {
   "cell_type": "markdown",
   "metadata": {},
   "source": [
    "Visualize a pointcloud with its annotations"
   ]
  },
  {
   "cell_type": "code",
   "execution_count": 3,
   "metadata": {},
   "outputs": [
    {
     "name": "stdout",
     "output_type": "stream",
     "text": [
      "File loaded: /home/adlink/Documents/ECE-57000/ClassProject/Candidate2/PointPillars/dataset/kitti/training/velodyne_reduced/006066.bin\n"
     ]
    },
    {
     "name": "stderr",
     "output_type": "stream",
     "text": [
      "/home/adlink/Documents/ECE-57000/ClassProject/github/PointPillars/Implementation/Pipelines/kitti_loader.py:50: UserWarning: The given NumPy array is not writable, and PyTorch does not support non-writable tensors. This means writing to this tensor will result in undefined behavior. You may want to copy the array to protect its data or make it writable before converting it to a tensor. This type of warning will be suppressed for the rest of this program. (Triggered internally at ../torch/csrc/utils/tensor_numpy.cpp:206.)\n",
      "  return torch.from_numpy(point_cloud)\n"
     ]
    }
   ],
   "source": [
    "# Example usage:\n",
    "random_idx_sample = random.randint(0,7000)\n",
    "point_cloud, labels = train_set[0]  # TODO: Is it necessary to rotate bounding box 90 deg?\n",
    "geometries = plot_point_cloud_with_bboxes_o3d(point_cloud.numpy(), labels)"
   ]
  },
  {
   "cell_type": "markdown",
   "metadata": {},
   "source": [
    "Batch data:"
   ]
  },
  {
   "cell_type": "code",
   "execution_count": 4,
   "metadata": {},
   "outputs": [
    {
     "name": "stdout",
     "output_type": "stream",
     "text": [
      "File loaded: /home/adlink/Documents/ECE-57000/ClassProject/Candidate2/PointPillars/dataset/kitti/training/velodyne_reduced/006066.bin\n",
      "Loading point cloud number 0\n",
      "File loaded: /home/adlink/Documents/ECE-57000/ClassProject/Candidate2/PointPillars/dataset/kitti/training/velodyne_reduced/004407.bin\n",
      "Loading point cloud number 1\n",
      "File loaded: /home/adlink/Documents/ECE-57000/ClassProject/Candidate2/PointPillars/dataset/kitti/training/velodyne_reduced/002395.bin\n",
      "Loading point cloud number 2\n",
      "File loaded: /home/adlink/Documents/ECE-57000/ClassProject/Candidate2/PointPillars/dataset/kitti/training/velodyne_reduced/005517.bin\n",
      "Loading point cloud number 3\n"
     ]
    }
   ],
   "source": [
    "# IMPORTANT: Set to CPU for pillarization otherwise, expect GPU memory to overflow\n",
    "device =  torch.device('cpu')\n",
    "\n",
    "# Create a collate function to handle variable-sized labels:\n",
    "def collate_batch(batch):\n",
    "    point_clouds, annotations = zip(*batch)\n",
    "    \n",
    "    # Convert lists of point clouds and annotations into tensors\n",
    "    point_clouds = torch.stack(point_clouds, dim=0)\n",
    "    \n",
    "    # Padding for variable-sized labels:\n",
    "    max_annotations = max(len(a['Car']) for a in annotations)\n",
    "    padded_annotations = []\n",
    "    for a in annotations:\n",
    "        # Pad each annotation to have max_annotations entries\n",
    "        car_annotations = a['Car'] + [{}] * (max_annotations - len(a['Car']))\n",
    "        padded_annotations.append({'Car': car_annotations})\n",
    "    \n",
    "    return point_clouds, padded_annotations\n",
    "\n",
    "        \n",
    "# Create the dataset and DataLoader\n",
    "dataset = PseudoImageDataset(pointcloud_dir=train_pointclouds_dir, device=device, kitti_dataset=train_set, aug_dim=AUG_DIM, max_points_in_pillar=MAX_POINTS_PER_PILLAR,\n",
    "                             max_pillars=MAX_FILLED_PILLARS, x_min=X_MIN, y_min=Y_MIN, z_min=Z_MIN, x_max = X_MAX, y_max=Y_MAX,\n",
    "                             z_max = Z_MAX, pillar_size=PILLAR_SIZE)\n",
    "\n",
    "train_loader = DataLoader(dataset, batch_size=4, shuffle=False, collate_fn=collate_batch)\n",
    "\n",
    "\n",
    "# Iterate through batches:  \n",
    "for batch_idx, (pseudo_image, label) in enumerate(train_loader):\n",
    "    break # TODO: Erase this and load the entire dataset"
   ]
  },
  {
   "cell_type": "code",
   "execution_count": 5,
   "metadata": {},
   "outputs": [
    {
     "data": {
      "text/plain": [
       "torch.Size([4, 64, 500, 440])"
      ]
     },
     "execution_count": 5,
     "metadata": {},
     "output_type": "execute_result"
    }
   ],
   "source": [
    "pseudo_image.size()"
   ]
  },
  {
   "cell_type": "code",
   "execution_count": 6,
   "metadata": {},
   "outputs": [],
   "source": [
    "# After pillarization and batching, we can start using the GPU:\n",
    "device = 'cuda' if torch.cuda.is_available() else 'cpu'"
   ]
  },
  {
   "cell_type": "markdown",
   "metadata": {},
   "source": [
    "Backbone pipeline:"
   ]
  },
  {
   "cell_type": "code",
   "execution_count": 7,
   "metadata": {},
   "outputs": [
    {
     "data": {
      "text/plain": [
       "Text(0.5, 1.0, 'Features Summed Over Channels')"
      ]
     },
     "execution_count": 7,
     "metadata": {},
     "output_type": "execute_result"
    },
    {
     "data": {
      "image/png": "[encoded data removed]",
      "text/plain": [
       "<Figure size 640x480 with 1 Axes>"
      ]
     },
     "metadata": {},
     "output_type": "display_data"
    }
   ],
   "source": [
    "backbone = BackBone(in_channels=64, out_channels=64, device=device)\n",
    "backbone_features = backbone(pseudo_image)\n",
    "\n",
    "\n",
    "# Sum over channels for the original features\n",
    "backbone_raw = torch.sum(backbone_features[3, :, :, :], dim=0).detach().numpy()\n",
    "plt.imshow(backbone_raw, cmap='gray')\n",
    "plt.title('Features Summed Over Channels')"
   ]
  },
  {
   "cell_type": "code",
   "execution_count": 8,
   "metadata": {},
   "outputs": [
    {
     "ename": "IndentationError",
     "evalue": "expected an indented block (3892204393.py, line 109)",
     "output_type": "error",
     "traceback": [
      "\u001b[0;36m  Cell \u001b[0;32mIn [8], line 109\u001b[0;36m\u001b[0m\n\u001b[0;31m    deltas = calculate_deltas(anchor, ground_truth_box)\u001b[0m\n\u001b[0m    ^\u001b[0m\n\u001b[0;31mIndentationError\u001b[0m\u001b[0;31m:\u001b[0m expected an indented block\n"
     ]
    }
   ],
   "source": [
    "\n",
    "# Forward pass through the backbone:\n",
    "backbone = BackBone(in_channels=64, out_channels=64, device=device)\n",
    "backbone_features = backbone(pseudo_image)\n",
    "\n",
    "\n",
    "def transform_to_canvas(x_center, y_center, x_min, y_min, radius, pillar_size):\n",
    "    x_center_img = (x_center - x_min) // pillar_size[0]\n",
    "    y_center_img = (y_center - y_min) // pillar_size[1]\n",
    "    radius_img = radius / pillar_size[0] # TODO: This assumes that pillar_size is the same in x and y\n",
    "    return x_center_img, y_center_img, radius_img\n",
    "\n",
    "\n",
    "def transform_to_grid(length, width, height, z_center, orientation, pillar_size):\n",
    "    length_tr = length // pillar_size[0] # Assumes pillar size is equal in both dimensions\n",
    "    width_tr = width // pillar_size[0]\n",
    "    return length_tr, width_tr\n",
    "\n",
    "\n",
    "def generate_anchors(x_c, y_c, r, anchor_dims, pillar_size):\n",
    "\n",
    "    '''Generate anchors within the given radius based on the anchor dimensions\n",
    "    and returns the list of anchors'''\n",
    "\n",
    "    anchors = []\n",
    "\n",
    "    for anchor_dim in anchor_dims:\n",
    "        # Unpack the anchor dimensions\n",
    "        length, width, height, z_center, orientation = anchor_dim\n",
    "\n",
    "        length_tr, width_tr = transform_to_grid(length, width, height, z_center, orientation, pillar_size)\n",
    "        # Create anchor:\n",
    "        anchor_2d = (x_c, y_c, z_center, length, width, height, orientation)\n",
    "        if (x_c - r <= x_c <= x_c + r) and (y_c - r <= y_c <= y_c + r):\n",
    "            anchors.append(anchor_2d) # Append anchor\n",
    "        \n",
    "    return anchors\n",
    "\n",
    "\n",
    "\n",
    "\n",
    "# Anchors as tensor: (length, width, height, z_center, orientation)\n",
    "anchor_dims = torch.tensor([[3.9, 1.6, 1.56, -1, 0], # TODO: Declare at the top\n",
    "                       [3.9, 1.6, 1.56, -1, 1.5708],\n",
    "                       [0.8, 0.6, 1.73, -0.6, 0],\n",
    "                       [0.8, 0.6, 1.73, -0.6, 1.5708]]\n",
    "                       )\n",
    "\n",
    "\n",
    "# Copy backbone features for visualization:\n",
    "backbone_features_masked = backbone_features.detach().clone()\n",
    "\n",
    "# TODO: For each 3D bounding box provided in the label files, a search radius is defined \n",
    "# around the original bounding box based on object dimensions (represented as a red circle in a grid).\n",
    "for batch_index, gt_label in enumerate(label):\n",
    "    if gt_label['Car'][0] == [{}]:\n",
    "        continue\n",
    "    \n",
    "    # Create target radius:\n",
    "    target_radii = []\n",
    "\n",
    "    # Number of objects: \n",
    "    n_objects = len(gt_label['Car'])\n",
    "\n",
    "    # Create empty tensor that holds target circles:\n",
    "    target_circles = torch.zeros(n_objects, 3) # Tensor will hold (x_center, y_center and radius of the target circle for applying the anchors)\n",
    "\n",
    "\n",
    "    margin = 2.0 # Adds to the box to get the target radius for SSD\n",
    "    \n",
    "    # Initialize the mask tensor for the current batch element\n",
    "    mask = torch.zeros(backbone_features.size(-2), backbone_features.size(-1), dtype=torch.bool)\n",
    "\n",
    "\n",
    "    # Iterate over targets to set target_radii and apply anchors\n",
    "    for i in range(n_objects):\n",
    "        if gt_label['Car'][i] == {}: # If true, done with target generation\n",
    "            print('EMPTY')\n",
    "            continue\n",
    "\n",
    "        x_center = gt_label['Car'][i]['location'][2] # y, z, r\n",
    "        y_center = gt_label['Car'][i]['location'][0]\n",
    "        height = gt_label['Car'][i]['dimensions'][0]\n",
    "        width = gt_label['Car'][i]['dimensions'][1]\n",
    "\n",
    "        # TODO: Transform targets to pseudo_image_frame:\n",
    "        target_radius = max(height, width) + margin\n",
    "        # target_circles[i,0:3] = torch.tensor([x_center, y_center, target_radius]) DEPRECATE?\n",
    "\n",
    "        # Ground-truth box in the canvas for IoU computations:\n",
    "        x_center_tr, y_center_tr, target_radius_tr =  transform_to_canvas(x_center=x_center, \n",
    "            y_center=y_center, x_min=X_MIN, y_min=Y_MIN, radius=target_radius, pillar_size=PILLAR_SIZE)\n",
    "        \n",
    "        print(f'x center: {x_center_tr}')\n",
    "        y, x = torch.meshgrid(torch.arange(backbone_features.size()[-2]), torch.arange(backbone_features.size()[-1]))\n",
    "    \n",
    "        # Generate mask for current target:\n",
    "        mask |= (x - x_center_tr) ** 2 + (y - y_center_tr) ** 2 <= target_radius_tr ** 2\n",
    "\n",
    "        # Generate anchors:\n",
    "        anchors_2d = generate_anchors(x_c=x_center_tr, y_c=y_center_tr, r=target_radius_tr, \n",
    "            anchor_dims=anchor_dims, pillar_size=PILLAR_SIZE)\n",
    "        \n",
    "        for anchor_2d in anchors_2d:\n",
    "            iou = calculate_iou(anchor, ground_truth_box)\n",
    "            if iou >= IOU_THRESHOLD:\n",
    "            # Calculate and record the target deltas for this anchor\n",
    "            # Usually, the deltas are the differences between the anchor and the ground truth box\n",
    "            # in terms of center coordinates, dimensions, and orientation (yaw angle)\n",
    "            deltas = calculate_deltas(anchor, ground_truth_box)\n",
    "            # You would then assign these deltas to a target tensor that your model would predict\n",
    "                \n",
    "\n",
    "        \n",
    "        print(f'Anchors 2D: {anchors_2d}')\n",
    "\n",
    "        # TODO: Get ground truth box:\n",
    "\n",
    "\n",
    "    # After all circles have been drawn on the mask, expand it to cover the channel dimension\n",
    "    expanded_mask = mask.unsqueeze(0).expand(backbone_features.size(1), -1, -1) \n",
    "\n",
    "    # Convert the mask to the same type as the backbone features to apply it\n",
    "    expanded_mask = expanded_mask.to(backbone_features.dtype)\n",
    "\n",
    "    backbone_features_masked[batch_index] *= expanded_mask\n",
    "    \n",
    "\n",
    "\n",
    "\n"
   ]
  },
  {
   "cell_type": "code",
   "execution_count": 43,
   "metadata": {},
   "outputs": [
    {
     "data": {
      "text/plain": [
       "[(445.0,\n",
       "  434.0,\n",
       "  tensor(-1.),\n",
       "  tensor(3.9000),\n",
       "  tensor(1.6000),\n",
       "  tensor(1.5600),\n",
       "  tensor(0.)),\n",
       " (445.0,\n",
       "  434.0,\n",
       "  tensor(-1.),\n",
       "  tensor(3.9000),\n",
       "  tensor(1.6000),\n",
       "  tensor(1.5600),\n",
       "  tensor(1.5708)),\n",
       " (445.0,\n",
       "  434.0,\n",
       "  tensor(-0.6000),\n",
       "  tensor(0.8000),\n",
       "  tensor(0.6000),\n",
       "  tensor(1.7300),\n",
       "  tensor(0.)),\n",
       " (445.0,\n",
       "  434.0,\n",
       "  tensor(-0.6000),\n",
       "  tensor(0.8000),\n",
       "  tensor(0.6000),\n",
       "  tensor(1.7300),\n",
       "  tensor(1.5708))]"
      ]
     },
     "execution_count": 43,
     "metadata": {},
     "output_type": "execute_result"
    }
   ],
   "source": [
    "anchors"
   ]
  },
  {
   "cell_type": "code",
   "execution_count": null,
   "metadata": {},
   "outputs": [],
   "source": [
    "    # WARNING: THIS IS JUST FOR VISUALIZATION PURPOSES:\n",
    "\n",
    "    # Sum over channels for the original features\n",
    "    backbone_pre_sum = torch.sum(backbone_features[batch_index], dim=0).detach().numpy()\n",
    "\n",
    "    # Sum over channels for the masked features\n",
    "    backbone_pos_sum = torch.sum(backbone_features_masked[batch_index], dim=0).detach().numpy()\n",
    "\n",
    "\n",
    "    # Visualization using matplotlib\n",
    "    plt.figure(figsize=(12, 6))\n",
    "\n",
    "    # Original feature visualization\n",
    "    plt.subplot(1, 3, 1)\n",
    "    plt.imshow(backbone_pre_sum, cmap='gray')\n",
    "    plt.title('Original Features Summed Over Channels')\n",
    "\n",
    "    # Masked feature visualization\n",
    "    plt.subplot(1, 3, 2)\n",
    "    plt.imshow(backbone_pos_sum, cmap='gray')\n",
    "    plt.title('Masked Features Summed Over Channels')\n",
    "\n",
    "    # Masked feature visualization\n",
    "    plt.subplot(1, 3, 3)\n",
    "    plt.imshow(mask.numpy(), cmap='gray')\n",
    "    plt.title('Mask applied')\n",
    "\n",
    "    plt.show()\n",
    "\n",
    "    # TODO: Apply each anchor and get the anchor with the highest IoU:"
   ]
  },
  {
   "cell_type": "code",
   "execution_count": 9,
   "metadata": {},
   "outputs": [
    {
     "data": {
      "text/plain": [
       "torch.Size([4, 384, 500, 440])"
      ]
     },
     "execution_count": 9,
     "metadata": {},
     "output_type": "execute_result"
    }
   ],
   "source": [
    "backbone_features.size()\n"
   ]
  },
  {
   "cell_type": "code",
   "execution_count": 22,
   "metadata": {},
   "outputs": [
    {
     "data": {
      "text/plain": [
       "4"
      ]
     },
     "execution_count": 22,
     "metadata": {},
     "output_type": "execute_result"
    }
   ],
   "source": [
    "anchor_dims.size()[0]"
   ]
  },
  {
   "cell_type": "markdown",
   "metadata": {},
   "source": [
    "Now, implement the Detection Head:"
   ]
  },
  {
   "cell_type": "code",
   "execution_count": 10,
   "metadata": {},
   "outputs": [],
   "source": [
    "#backbone_output = torch.randn(4, backbone_features.size()[1], 252, 252) # Example feature map from backbone\n",
    "detection_head = DetectionHead(device=device, in_channels=backbone_features.size()[1], grid_size_x=backbone_features.size()[2], \n",
    "                        grid_size_y=backbone_features.size()[3], num_anchors=4, num_classes=2) #TODO: Initialize with correct parameters\n",
    "loc, size, clf, occupancy, angle, heading = detection_head(backbone_features)"
   ]
  },
  {
   "cell_type": "code",
   "execution_count": 11,
   "metadata": {},
   "outputs": [
    {
     "data": {
      "text/plain": [
       "torch.Size([4, 4, 3, 500, 440])"
      ]
     },
     "execution_count": 11,
     "metadata": {},
     "output_type": "execute_result"
    }
   ],
   "source": [
    "loc.size()"
   ]
  },
  {
   "cell_type": "markdown",
   "metadata": {},
   "source": [
    "Create anchors for Single-Shot Detector:"
   ]
  },
  {
   "cell_type": "code",
   "execution_count": null,
   "metadata": {},
   "outputs": [],
   "source": []
  },
  {
   "cell_type": "code",
   "execution_count": null,
   "metadata": {},
   "outputs": [],
   "source": [
    "pseudo_image.size()"
   ]
  },
  {
   "cell_type": "code",
   "execution_count": null,
   "metadata": {},
   "outputs": [],
   "source": [
    "max_labels"
   ]
  },
  {
   "cell_type": "markdown",
   "metadata": {},
   "source": [
    "Previous version:"
   ]
  },
  {
   "cell_type": "code",
   "execution_count": null,
   "metadata": {},
   "outputs": [],
   "source": []
  },
  {
   "cell_type": "code",
   "execution_count": null,
   "metadata": {},
   "outputs": [],
   "source": [
    "backbone_features.size()"
   ]
  },
  {
   "cell_type": "code",
   "execution_count": null,
   "metadata": {},
   "outputs": [],
   "source": [
    "anchor_dims"
   ]
  },
  {
   "cell_type": "code",
   "execution_count": null,
   "metadata": {},
   "outputs": [],
   "source": [
    "\n",
    "\n",
    "\n",
    "# TODO: createPillarsTarget function: This function is tasked with generating regression targets, which are \n",
    "# essential for subsequent loss value calculations. It follows these steps:\n",
    "\n",
    "\n",
    "# TODO: For each 3D bounding box provided in the label files, a search radius is defined \n",
    "# around the original bounding box based on object dimensions (represented as a red circle in a grid).\n",
    "for gt_label in label:\n",
    "    if gt_label['Car'] == [{}, {}, {}, {}, {}, {}, {}]:\n",
    "        continue\n",
    "\n",
    "    # Create target radius:\n",
    "    target_radii = []\n",
    "\n",
    "    # Number of objects: \n",
    "    n_objects = len(gt_label['Car'])\n",
    "\n",
    "    # Create empty tensor that holds target circles:\n",
    "    target_circles = torch.zeros(n_objects, 3) # Tensor will hold (x_center, y_center and radius of the target circle for applying the anchors)\n",
    "\n",
    "    # Iterate over targets to set target_radii and apply anchors\n",
    "    for i in range(n_objects):\n",
    "        if gt_label['Car'][i] == {}:\n",
    "            n_objects = i\n",
    "            break\n",
    "\n",
    "        #target_radii.append(TargetRadius(x_center=gt_label['Car'][i]['location'][2], \n",
    "        #                        y_center=gt_label['Car'][i]['location'][0], radius=6.0))\n",
    "        x_center = gt_label['Car'][i]['location'][2]\n",
    "        y_center = gt_label['Car'][i]['location'][0]\n",
    "        height = gt_label['Car'][i]['dimensions'][0]\n",
    "        width = gt_label['Car'][i]['dimensions'][1]\n",
    "\n",
    "        target_radius = max(height, width)\n",
    "        target_circles[i,0:3] = torch.tensor([x_center, y_center, target_radius])\n"
   ]
  },
  {
   "cell_type": "code",
   "execution_count": null,
   "metadata": {},
   "outputs": [],
   "source": [
    "label"
   ]
  },
  {
   "cell_type": "markdown",
   "metadata": {},
   "source": [
    "Now, create the loss function:"
   ]
  },
  {
   "cell_type": "code",
   "execution_count": null,
   "metadata": {},
   "outputs": [],
   "source": [
    "\n",
    "class PointPillarLoss(nn.Module):\n",
    "    def __init__(self, alpha=0.25, gamma=2.0):\n",
    "        super(PointPillarLoss, self).__init__()\n",
    "        self.smooth_l1_loss = nn.SmoothL1Loss()\n",
    "        self.alpha = alpha\n",
    "        self.gamma = gamma\n",
    "\n",
    "    def forward(self, predictions, targets):\n",
    "        # Unpack predictions and targets\n",
    "        pred_boxes, pred_scores = predictions\n",
    "        gt_boxes, gt_scores = targets\n",
    "        \n",
    "        # Calculate the residuals for the boxes\n",
    "        da = torch.sqrt((pred_boxes[:, 3] - pred_boxes[:, 0])**2 + (pred_boxes[:, 4] - pred_boxes[:, 1])**2)\n",
    "        dx = (gt_boxes[:, 0] - pred_boxes[:, 0]) / da\n",
    "        dy = (gt_boxes[:, 1] - pred_boxes[:, 1]) / da\n",
    "        dz = (gt_boxes[:, 2] - pred_boxes[:, 2]) / pred_boxes[:, 5]\n",
    "        dw = torch.log(gt_boxes[:, 3] / pred_boxes[:, 3])\n",
    "        dl = torch.log(gt_boxes[:, 4] / pred_boxes[:, 4])\n",
    "        dh = torch.log(gt_boxes[:, 5] / pred_boxes[:, 5])\n",
    "        dtheta = torch.sin(gt_boxes[:, 6] - pred_boxes[:, 6])\n",
    "        \n",
    "        # Stack the residuals\n",
    "        residuals = torch.stack((dx, dy, dz, dw, dl, dh, dtheta), dim=1)\n",
    "        \n",
    "        # Calculate the SmoothL1 loss for localization\n",
    "        loc_loss = self.smooth_l1_loss(pred_boxes, residuals)\n",
    "        \n",
    "        # Calculate the Focal loss for classification\n",
    "        p = torch.sigmoid(pred_scores)\n",
    "        pt = p * gt_scores + (1 - p) * (1 - gt_scores)  # p_t\n",
    "        alpha_t = self.alpha * gt_scores + (1 - self.alpha) * (1 - gt_scores)\n",
    "        cls_loss = -alpha_t * (1 - pt) ** self.gamma * (gt_scores * torch.log(p) + (1 - gt_scores) * torch.log(1 - p))\n",
    "        \n",
    "        # Sum up the localization and classification losses\n",
    "        total_loss = loc_loss + cls_loss.sum()\n",
    "        \n",
    "        return total_loss\n",
    "\n",
    "# Example usage:\n",
    "model = ...  # Your model here\n",
    "criterion = PointPillarLoss()\n",
    "\n",
    "# Predictions from the model\n",
    "pred_boxes = ...  # Your predicted boxes here (Nx7)\n",
    "pred_scores = ...  # Your predicted scores here (Nx1)\n",
    "\n",
    "# Targets\n",
    "gt_boxes = ...  # Your ground truth boxes here (Nx7)\n",
    "gt_scores = ...  # Your ground truth scores here (Nx1)\n",
    "\n",
    "# Compute the loss\n",
    "loss = criterion((pred_boxes, pred_scores), (gt_boxes, gt_scores))\n",
    "\n"
   ]
  }
 ],
 "metadata": {
  "kernelspec": {
   "display_name": "Python 3 (ipykernel)",
   "language": "python",
   "name": "python3"
  },
  "language_info": {
   "codemirror_mode": {
    "name": "ipython",
    "version": 3
   },
   "file_extension": ".py",
   "mimetype": "text/x-python",
   "name": "python",
   "nbconvert_exporter": "python",
   "pygments_lexer": "ipython3",
   "version": "3.8.18"
  }
 },
 "nbformat": 4,
 "nbformat_minor": 5
}
