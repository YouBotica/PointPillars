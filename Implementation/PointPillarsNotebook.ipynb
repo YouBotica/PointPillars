{
 "cells": [
  {
   "cell_type": "code",
   "execution_count": 1,
   "id": "42732c6f",
   "metadata": {},
   "outputs": [
    {
     "name": "stdout",
     "output_type": "stream",
     "text": [
      "Can I can use GPU now? -- True\n"
     ]
    }
   ],
   "source": [
    "\n",
    "import os\n",
    "import pdb\n",
    "import torch\n",
    "import numpy as np\n",
    "from torch.utils.data import Dataset, DataLoader, random_split\n",
    "import matplotlib.pyplot as plt\n",
    "from mpl_toolkits.mplot3d import Axes3D\n",
    "import torch.nn as nn\n",
    "import random\n",
    "import ipdb\n",
    "\n",
    "# Pipelines (a.k.a parts of the Neural Network)\n",
    "from Pipelines.kitti_loader import KITTIDataset\n",
    "from Pipelines.pillarizer import PillarFeatureNet, Pillarization, PseudoImageDataset\n",
    "from Pipelines.backbone import BackBone\n",
    "from Pipelines.detection_head import DetectionHead\n",
    "\n",
    "\n",
    "print(f'Can I can use GPU now? -- {torch.cuda.is_available()}')\n"
   ]
  },
  {
   "cell_type": "markdown",
   "id": "35dc7870",
   "metadata": {},
   "source": [
    "Load data from the KITTI dataset and perform train-test split:\n"
   ]
  },
  {
   "cell_type": "code",
   "execution_count": 2,
   "id": "b209d378",
   "metadata": {},
   "outputs": [],
   "source": [
    "#train_pointclouds_full_dir = '/home/adlink/Documents/ECE-57000/ClassProject/Candidate2/PointPillars/dataset/kitti/training/velodyne'\n",
    "\n",
    "train_pointclouds_dir = '/home/adlink/Documents/ECE-57000/ClassProject/Candidate2/PointPillars/dataset/kitti/training/velodyne_reduced'\n",
    "train_labels_dir = '/home/adlink/Documents/ECE-57000/ClassProject/Candidate2/PointPillars/dataset/kitti/training/label_2'\n",
    "test_pointclouds_dir = '/home/adlink/Documents/ECE-57000/ClassProject/Candidate2/PointPillars/dataset/kitti/testing/velodyne_reduced'\n",
    "\n",
    "train_set = KITTIDataset(pointcloud_dir=train_pointclouds_dir, labels_dir=train_labels_dir)\n",
    "\n",
    "# Neural Network Parameters:\n",
    "AUG_DIM = 9\n",
    "MAX_POINTS_PER_PILLAR = 100\n",
    "MAX_FILLED_PILLARS = 12000\n",
    "X_MIN = 0.0\n",
    "X_MAX = 70.4\n",
    "Y_MIN = -40.0\n",
    "Y_MAX = 40.0\n",
    "Z_MIN = -3.0\n",
    "Z_MAX = 1.0\n",
    "PILLAR_SIZE = (0.16, 0.16)\n",
    "\n",
    "# TODO: Add Loader for test set (No labels)"
   ]
  },
  {
   "cell_type": "markdown",
   "metadata": {},
   "source": [
    "Visualize a pointcloud with its annotations"
   ]
  },
  {
   "cell_type": "code",
   "execution_count": 3,
   "metadata": {},
   "outputs": [
    {
     "name": "stdout",
     "output_type": "stream",
     "text": [
      "Jupyter environment detected. Enabling Open3D WebVisualizer.\n",
      "[Open3D INFO] WebRTC GUI backend enabled.\n",
      "[Open3D INFO] WebRTCWindowSystem: HTTP handshake server disabled.\n",
      "File loaded: /home/adlink/Documents/ECE-57000/ClassProject/Candidate2/PointPillars/dataset/kitti/training/velodyne_reduced/000333.bin\n"
     ]
    },
    {
     "name": "stderr",
     "output_type": "stream",
     "text": [
      "/home/adlink/Documents/ECE-57000/ClassProject/github/PointPillars/Implementation/Pipelines/kitti_loader.py:50: UserWarning: The given NumPy array is not writable, and PyTorch does not support non-writable tensors. This means writing to this tensor will result in undefined behavior. You may want to copy the array to protect its data or make it writable before converting it to a tensor. This type of warning will be suppressed for the rest of this program. (Triggered internally at ../torch/csrc/utils/tensor_numpy.cpp:206.)\n",
      "  return torch.from_numpy(point_cloud)\n"
     ]
    }
   ],
   "source": [
    "import open3d as o3d\n",
    "\n",
    "def draw_box_o3d(corners, color=[1, 0, 0]):\n",
    "    # Define the edges of the bounding box\n",
    "    lines = [\n",
    "        [0, 1], [1, 2], [2, 3], [3, 0],  # lower edges\n",
    "        [4, 5], [5, 6], [6, 7], [7, 4],  # upper edges\n",
    "        [0, 4], [1, 5], [2, 6], [3, 7]   # vertical edges\n",
    "    ]\n",
    "    # Create lines set object in open3d\n",
    "    lines_set = o3d.geometry.LineSet(\n",
    "        points=o3d.utility.Vector3dVector(corners),\n",
    "        lines=o3d.utility.Vector2iVector(lines),\n",
    "    )\n",
    "    # Set the color of the bounding box\n",
    "    lines_set.colors = o3d.utility.Vector3dVector([color for i in range(len(lines))])\n",
    "    return lines_set\n",
    "\n",
    "def plot_point_cloud_with_bboxes_o3d(point_cloud, annotations):\n",
    "    # Create open3d point cloud object\n",
    "    pcd = o3d.geometry.PointCloud()\n",
    "    pcd.points = o3d.utility.Vector3dVector(point_cloud[:, :3])  # Assuming the point cloud is (N, 3)\n",
    "\n",
    "    # Create a list to hold all the geometries to be visualized\n",
    "    geometries = [pcd]\n",
    "\n",
    "    # For each car annotation, create and add a bounding box\n",
    "    for annotation in annotations.get('Car', []):\n",
    "        h, w, l = annotation['dimensions']\n",
    "        y, z, x = annotation['location']  # Adjust based on the KITTI dataset's convention\n",
    "\n",
    "        # Compute x, y, z in velodyne frame\n",
    "        y = -y\n",
    "        z = -z\n",
    "\n",
    "        ry = annotation['rotation_y']\n",
    "\n",
    "        # Create a bounding box in the vehicle's reference frame\n",
    "        corners = np.array([\n",
    "            [l / 2, w / 2, 0],\n",
    "            [-l / 2, w / 2, 0],\n",
    "            [-l / 2, -w / 2, 0],\n",
    "            [l / 2, -w / 2, 0],\n",
    "            [l / 2, w / 2, h],\n",
    "            [-l / 2, w / 2, h],\n",
    "            [-l / 2, -w / 2, h],\n",
    "            [l / 2, -w / 2, h],\n",
    "        ])\n",
    "\n",
    "        # Rotate the bounding box\n",
    "        rotation_matrix = np.array([\n",
    "            [np.cos(ry), -np.sin(ry), 0],\n",
    "            [np.sin(ry), np.cos(ry), 0],\n",
    "            [0, 0, 1]\n",
    "        ])\n",
    "        corners_rotated = np.dot(corners, rotation_matrix.T)\n",
    "\n",
    "        # Translate the bounding box\n",
    "        corners_rotated += np.array([x, y, z])\n",
    "\n",
    "        # Create and add the bounding box to the geometries list\n",
    "        bbox = draw_box_o3d(corners_rotated)\n",
    "        geometries.append(bbox)\n",
    "\n",
    "    # Visualize the point cloud and bounding boxes\n",
    "    o3d.visualization.draw_geometries(geometries)\n",
    "\n",
    "    return geometries\n",
    "\n",
    "# Example usage:\n",
    "point_cloud, labels = train_set[5001]  # Replace 0 with the index of the point cloud you want to visualize\n",
    "geometries = plot_point_cloud_with_bboxes_o3d(point_cloud.numpy(), labels)"
   ]
  },
  {
   "cell_type": "markdown",
   "metadata": {},
   "source": [
    "How are we getting labels?"
   ]
  },
  {
   "cell_type": "code",
   "execution_count": 4,
   "id": "33d35975",
   "metadata": {},
   "outputs": [
    {
     "data": {
      "text/plain": [
       "'pillarizer = Pillarization(aug_dim=9, x_min=0.0, x_max=70.4, y_min=-40.0, y_max=40.0, \\n                                        z_min=-3, z_max=1, pillar_size=(0.16, 0.16), \\n                                        max_points_per_pillar=100, max_pillars=12000)\\n\\npillars = pillarizer.make_pillars(train_set[0][0])'"
      ]
     },
     "execution_count": 4,
     "metadata": {},
     "output_type": "execute_result"
    }
   ],
   "source": [
    "# IMPORTANT: Set to CPU for pillarization otherwise, expect GPU memory to overflow\n",
    "device =  torch.device('cpu')\n",
    "    \n",
    "# Test Pillarization:\n",
    "'''pillarizer = Pillarization(aug_dim=9, x_min=0.0, x_max=70.4, y_min=-40.0, y_max=40.0, \n",
    "                                        z_min=-3, z_max=1, pillar_size=(0.16, 0.16), \n",
    "                                        max_points_per_pillar=100, max_pillars=12000)\n",
    "\n",
    "pillars = pillarizer.make_pillars(train_set[0][0])'''\n",
    "\n"
   ]
  },
  {
   "cell_type": "code",
   "execution_count": 5,
   "metadata": {},
   "outputs": [
    {
     "name": "stdout",
     "output_type": "stream",
     "text": [
      "File loaded: /home/adlink/Documents/ECE-57000/ClassProject/Candidate2/PointPillars/dataset/kitti/training/velodyne_reduced/005198.bin\n",
      "Loading point cloud number 3232\n",
      "File loaded: /home/adlink/Documents/ECE-57000/ClassProject/Candidate2/PointPillars/dataset/kitti/training/velodyne_reduced/004421.bin\n",
      "Loading point cloud number 7473\n",
      "File loaded: /home/adlink/Documents/ECE-57000/ClassProject/Candidate2/PointPillars/dataset/kitti/training/velodyne_reduced/000367.bin\n",
      "Loading point cloud number 5473\n",
      "File loaded: /home/adlink/Documents/ECE-57000/ClassProject/Candidate2/PointPillars/dataset/kitti/training/velodyne_reduced/004615.bin\n",
      "Loading point cloud number 4281\n"
     ]
    }
   ],
   "source": [
    "# Create a collate function to handle variable-sized labels:\n",
    "def collate_batch(batch):\n",
    "    point_clouds, annotations = zip(*batch)\n",
    "    \n",
    "    # Convert lists of point clouds and annotations into tensors\n",
    "    point_clouds = torch.stack(point_clouds, dim=0)\n",
    "    \n",
    "    # Padding for variable-sized labels:\n",
    "    max_annotations = max(len(a['Car']) for a in annotations)\n",
    "    padded_annotations = []\n",
    "    for a in annotations:\n",
    "        # Pad each annotation to have max_annotations entries\n",
    "        car_annotations = a['Car'] + [{}] * (max_annotations - len(a['Car']))\n",
    "        padded_annotations.append({'Car': car_annotations})\n",
    "    \n",
    "    return point_clouds, padded_annotations\n",
    "\n",
    "        \n",
    "# Create the dataset and DataLoader\n",
    "dataset = PseudoImageDataset(pointcloud_dir=train_pointclouds_dir, device=device, kitti_dataset=train_set, aug_dim=AUG_DIM, max_points_in_pillar=MAX_POINTS_PER_PILLAR,\n",
    "                             max_pillars=MAX_FILLED_PILLARS, x_min=X_MIN, y_min=Y_MIN, z_min=Z_MIN, x_max = X_MAX, y_max=Y_MAX,\n",
    "                             z_max = Z_MAX, pillar_size=PILLAR_SIZE)\n",
    "\n",
    "train_loader = DataLoader(dataset, batch_size=4, shuffle=True, collate_fn=collate_batch)\n",
    "\n",
    "\n",
    "# Iterate through batches:  \n",
    "for batch_idx, (pseudo_image, label) in enumerate(train_loader):\n",
    "    break # TODO: Erase this and load the entire dataset"
   ]
  },
  {
   "cell_type": "code",
   "execution_count": 6,
   "metadata": {},
   "outputs": [
    {
     "data": {
      "text/plain": [
       "torch.Size([4, 64, 500, 440])"
      ]
     },
     "execution_count": 6,
     "metadata": {},
     "output_type": "execute_result"
    }
   ],
   "source": [
    "pseudo_image.size()"
   ]
  },
  {
   "cell_type": "code",
   "execution_count": 7,
   "metadata": {},
   "outputs": [],
   "source": [
    "# After pillarization and batching, we can start using the GPU:\n",
    "device = 'cuda' if torch.cuda.is_available() else 'cpu'"
   ]
  },
  {
   "cell_type": "markdown",
   "metadata": {},
   "source": [
    "Backbone pipeline:"
   ]
  },
  {
   "cell_type": "code",
   "execution_count": 8,
   "metadata": {},
   "outputs": [],
   "source": [
    "\n",
    "backbone = BackBone(in_channels=64, out_channels=64, device=device)\n",
    "backbone_features = backbone(pseudo_image)"
   ]
  },
  {
   "cell_type": "code",
   "execution_count": 9,
   "metadata": {},
   "outputs": [
    {
     "data": {
      "text/plain": [
       "torch.Size([4, 384, 500, 440])"
      ]
     },
     "execution_count": 9,
     "metadata": {},
     "output_type": "execute_result"
    }
   ],
   "source": [
    "backbone_features.size()\n",
    "\n",
    "\n"
   ]
  },
  {
   "cell_type": "markdown",
   "metadata": {},
   "source": [
    "Now, implement the Detection Head:"
   ]
  },
  {
   "cell_type": "code",
   "execution_count": 10,
   "metadata": {},
   "outputs": [],
   "source": [
    "#backbone_output = torch.randn(4, backbone_features.size()[1], 252, 252) # Example feature map from backbone\n",
    "detection_head = DetectionHead(device=device, in_channels=backbone_features.size()[1], grid_size_x=backbone_features.size()[2], \n",
    "                        grid_size_y=backbone_features.size()[3], num_anchors=4, num_classes=2) #TODO: Initialize with correct parameters\n",
    "loc, size, clf, occupancy, angle, heading = detection_head(backbone_features)"
   ]
  },
  {
   "cell_type": "code",
   "execution_count": 12,
   "metadata": {},
   "outputs": [
    {
     "data": {
      "text/plain": [
       "torch.Size([4, 4, 3, 500, 440])"
      ]
     },
     "execution_count": 12,
     "metadata": {},
     "output_type": "execute_result"
    }
   ],
   "source": [
    "size.size()"
   ]
  },
  {
   "cell_type": "markdown",
   "metadata": {},
   "source": [
    "Create anchors for Single-Shot Detector:"
   ]
  },
  {
   "cell_type": "code",
   "execution_count": 37,
   "metadata": {},
   "outputs": [
    {
     "name": "stderr",
     "output_type": "stream",
     "text": [
      "/home/adlink/anaconda3/envs/test/lib/python3.8/site-packages/torch/functional.py:504: UserWarning: torch.meshgrid: in an upcoming release, it will be required to pass the indexing argument. (Triggered internally at ../aten/src/ATen/native/TensorShape.cpp:3526.)\n",
      "  return _VF.meshgrid(tensors, **kwargs)  # type: ignore[attr-defined]\n"
     ]
    },
    {
     "data": {
      "image/png": "[encoded data removed]",
      "text/plain": [
       "<Figure size 640x480 with 1 Axes>"
      ]
     },
     "metadata": {},
     "output_type": "display_data"
    },
    {
     "data": {
      "image/png": "[encoded data removed]",
      "text/plain": [
       "<Figure size 640x480 with 1 Axes>"
      ]
     },
     "metadata": {},
     "output_type": "display_data"
    },
    {
     "data": {
      "image/png": "[encoded data removed]",
      "text/plain": [
       "<Figure size 640x480 with 1 Axes>"
      ]
     },
     "metadata": {},
     "output_type": "display_data"
    },
    {
     "data": {
      "image/png": "[encoded data removed]",
      "text/plain": [
       "<Figure size 640x480 with 1 Axes>"
      ]
     },
     "metadata": {},
     "output_type": "display_data"
    }
   ],
   "source": [
    "def transform_to_canvas(x_center, y_center, x_min, y_min, radius, pillar_size):\n",
    "    x_center_img = (x_center - x_min) // pillar_size[0]\n",
    "    y_center_img = (y_center - y_min) // pillar_size[1]\n",
    "    radius_img = radius / pillar_size[0] # TODO: This assumes that pillar_size is the same in x and y\n",
    "    return x_center_img, y_center_img, radius_img\n",
    "\n",
    "\n",
    "# Anchors as tensor: (length, width, height, z_center, orientation)\n",
    "anchor_dims = torch.tensor([[3.9, 1.6, 1.56, -1, 0], # TODO: Declare at the top\n",
    "                       [3.9, 1.6, 1.56, -1, 1.5708],\n",
    "                       [0.8, 0.6, 1.73, -0.6, 0],\n",
    "                       [0.8, 0.6, 1.73, -0.6, 1.5708]]\n",
    "                       )\n",
    "\n",
    "\n",
    "# TODO: For each 3D bounding box provided in the label files, a search radius is defined \n",
    "# around the original bounding box based on object dimensions (represented as a red circle in a grid).\n",
    "for gt_label in label:\n",
    "    if gt_label['Car'] == [{}, {}, {}, {}, {}, {}, {}]:\n",
    "        continue\n",
    "\n",
    "    # Create target radius:\n",
    "    target_radii = []\n",
    "\n",
    "    # Number of objects: \n",
    "    n_objects = len(gt_label['Car'])\n",
    "\n",
    "    # Create empty tensor that holds target circles:\n",
    "    target_circles = torch.zeros(n_objects, 3) # Tensor will hold (x_center, y_center and radius of the target circle for applying the anchors)\n",
    "\n",
    "    # Empty canvas for visualization if needed:\n",
    "    canvas = torch.zeros(loc.size()[-2], loc.size()[-1])\n",
    "\n",
    "    margin = 2.0 # Adds to the box to get the target radius for SSD\n",
    "\n",
    "    # Iterate over targets to set target_radii and apply anchors\n",
    "    for i in range(n_objects):\n",
    "        if gt_label['Car'][i] == {}: # If true, done with target generation\n",
    "            break\n",
    "        x_center = gt_label['Car'][i]['location'][2]\n",
    "        y_center = gt_label['Car'][i]['location'][0]\n",
    "        height = gt_label['Car'][i]['dimensions'][0]\n",
    "        width = gt_label['Car'][i]['dimensions'][1]\n",
    "\n",
    "        # TODO: Transform targets to pseudo_image_frame:\n",
    "        target_radius = max(height, width) + margin\n",
    "        target_circles[i,0:3] = torch.tensor([x_center, y_center, target_radius])\n",
    "\n",
    "        x_center_tr, y_center_tr, target_radius_tr =  transform_to_canvas(x_center=x_center, \n",
    "            y_center=y_center, x_min=X_MIN, y_min=Y_MIN, radius=target_radius, pillar_size=PILLAR_SIZE)\n",
    "        \n",
    "        # TODO: Mask canvas to display circles if visualization is needed:\n",
    "        y, x = torch.meshgrid(torch.arange(canvas.size(0)), torch.arange(canvas.size(1)))\n",
    "        mask = (x - x_center_tr) ** 2 + (y - y_center_tr) ** 2 <= target_radius_tr ** 2\n",
    "        canvas[mask] = 1  # Set the masked locations to 1\n",
    "\n",
    "    canvas_numpy = canvas.numpy()\n",
    "    plt.imshow(canvas_numpy, cmap='gray')\n",
    "    plt.show()\n",
    "\n",
    "\n",
    "    # TODO: Apply each anchor and get the anchor with the highest IoU:\n",
    "\n",
    "        \n",
    "\n",
    "    "
   ]
  },
  {
   "cell_type": "code",
   "execution_count": 35,
   "metadata": {},
   "outputs": [
    {
     "data": {
      "text/plain": [
       "440"
      ]
     },
     "execution_count": 35,
     "metadata": {},
     "output_type": "execute_result"
    }
   ],
   "source": [
    "loc.size()[-1]"
   ]
  },
  {
   "cell_type": "code",
   "execution_count": 26,
   "metadata": {},
   "outputs": [
    {
     "data": {
      "text/plain": [
       "tensor([[ 3.9000,  1.6000,  1.5600, -1.0000,  0.0000],\n",
       "        [ 3.9000,  1.6000,  1.5600, -1.0000,  1.5708],\n",
       "        [ 0.8000,  0.6000,  1.7300, -0.6000,  0.0000],\n",
       "        [ 0.8000,  0.6000,  1.7300, -0.6000,  1.5708]])"
      ]
     },
     "execution_count": 26,
     "metadata": {},
     "output_type": "execute_result"
    }
   ],
   "source": [
    "anchor_dims"
   ]
  },
  {
   "cell_type": "code",
   "execution_count": 27,
   "metadata": {},
   "outputs": [
    {
     "ename": "RuntimeError",
     "evalue": "The expanded size of the tensor (2) must match the existing size (3) at non-singleton dimension 0.  Target sizes: [2].  Tensor sizes: [3]",
     "output_type": "error",
     "traceback": [
      "\u001b[0;31m---------------------------------------------------------------------------\u001b[0m",
      "\u001b[0;31mRuntimeError\u001b[0m                              Traceback (most recent call last)",
      "\u001b[1;32m/home/adlink/Documents/ECE-57000/ClassProject/github/PointPillars/Implementation/PointPillarsNotebook.ipynb Cell 22\u001b[0m line \u001b[0;36m3\n\u001b[1;32m     <a href='vscode-notebook-cell:/home/adlink/Documents/ECE-57000/ClassProject/github/PointPillars/Implementation/PointPillarsNotebook.ipynb#X24sZmlsZQ%3D%3D?line=30'>31</a>\u001b[0m width \u001b[39m=\u001b[39m gt_label[\u001b[39m'\u001b[39m\u001b[39mCar\u001b[39m\u001b[39m'\u001b[39m][i][\u001b[39m'\u001b[39m\u001b[39mdimensions\u001b[39m\u001b[39m'\u001b[39m][\u001b[39m1\u001b[39m]\n\u001b[1;32m     <a href='vscode-notebook-cell:/home/adlink/Documents/ECE-57000/ClassProject/github/PointPillars/Implementation/PointPillarsNotebook.ipynb#X24sZmlsZQ%3D%3D?line=32'>33</a>\u001b[0m target_radius \u001b[39m=\u001b[39m \u001b[39mmax\u001b[39m(height, width)\n\u001b[0;32m---> <a href='vscode-notebook-cell:/home/adlink/Documents/ECE-57000/ClassProject/github/PointPillars/Implementation/PointPillarsNotebook.ipynb#X24sZmlsZQ%3D%3D?line=33'>34</a>\u001b[0m target_circles[i,\u001b[39m0\u001b[39;49m:\u001b[39m2\u001b[39;49m] \u001b[39m=\u001b[39m torch\u001b[39m.\u001b[39mtensor([x_center, y_center, target_radius])\n",
      "\u001b[0;31mRuntimeError\u001b[0m: The expanded size of the tensor (2) must match the existing size (3) at non-singleton dimension 0.  Target sizes: [2].  Tensor sizes: [3]"
     ]
    }
   ],
   "source": [
    "\n",
    "\n",
    "\n",
    "# TODO: createPillarsTarget function: This function is tasked with generating regression targets, which are \n",
    "# essential for subsequent loss value calculations. It follows these steps:\n",
    "\n",
    "\n",
    "# TODO: For each 3D bounding box provided in the label files, a search radius is defined \n",
    "# around the original bounding box based on object dimensions (represented as a red circle in a grid).\n",
    "for gt_label in label:\n",
    "    if gt_label['Car'] == [{}, {}, {}, {}, {}, {}, {}]:\n",
    "        continue\n",
    "\n",
    "    # Create target radius:\n",
    "    target_radii = []\n",
    "\n",
    "    # Number of objects: \n",
    "    n_objects = len(gt_label['Car'])\n",
    "\n",
    "    # Create empty tensor that holds target circles:\n",
    "    target_circles = torch.zeros(n_objects, 3) # Tensor will hold (x_center, y_center and radius of the target circle for applying the anchors)\n",
    "\n",
    "    # Iterate over targets to set target_radii and apply anchors\n",
    "    for i in range(n_objects):\n",
    "        if gt_label['Car'][i] == {}:\n",
    "            n_objects = i\n",
    "            break\n",
    "\n",
    "        #target_radii.append(TargetRadius(x_center=gt_label['Car'][i]['location'][2], \n",
    "        #                        y_center=gt_label['Car'][i]['location'][0], radius=6.0))\n",
    "        x_center = gt_label['Car'][i]['location'][2]\n",
    "        y_center = gt_label['Car'][i]['location'][0]\n",
    "        height = gt_label['Car'][i]['dimensions'][0]\n",
    "        width = gt_label['Car'][i]['dimensions'][1]\n",
    "\n",
    "        target_radius = max(height, width)\n",
    "        target_circles[i,0:3] = torch.tensor([x_center, y_center, target_radius])\n"
   ]
  },
  {
   "cell_type": "code",
   "execution_count": 23,
   "metadata": {},
   "outputs": [
    {
     "data": {
      "text/plain": [
       "[{'Car': [{}, {}, {}, {}, {}, {}, {}]},\n",
       " {'Car': [{'truncated': 0.0,\n",
       "    'occluded': 0,\n",
       "    'alpha': -1.57,\n",
       "    'bbox': [571.3, 178.99, 603.66, 208.48],\n",
       "    'dimensions': [1.6, 1.76, 3.84],\n",
       "    'location': [-1.18, 1.26, 41.34],\n",
       "    'rotation_y': -1.6,\n",
       "    'score': None},\n",
       "   {'truncated': 0.93,\n",
       "    'occluded': 0,\n",
       "    'alpha': -0.81,\n",
       "    'bbox': [0.0, 209.69, 212.48, 375.0],\n",
       "    'dimensions': [1.38, 1.71, 4.49],\n",
       "    'location': [-4.78, 1.64, 4.77],\n",
       "    'rotation_y': -1.56,\n",
       "    'score': None},\n",
       "   {'truncated': 0.0,\n",
       "    'occluded': 0,\n",
       "    'alpha': -1.09,\n",
       "    'bbox': [85.19, 186.17, 282.49, 280.48],\n",
       "    'dimensions': [1.54, 1.65, 3.82],\n",
       "    'location': [-8.03, 1.58, 14.0],\n",
       "    'rotation_y': -1.6,\n",
       "    'score': None},\n",
       "   {'truncated': 0.0,\n",
       "    'occluded': 1,\n",
       "    'alpha': -1.18,\n",
       "    'bbox': [246.43, 185.37, 368.07, 246.86],\n",
       "    'dimensions': [1.49, 1.67, 4.05],\n",
       "    'location': [-8.22, 1.52, 19.98],\n",
       "    'rotation_y': -1.57,\n",
       "    'score': None},\n",
       "   {'truncated': 0.0,\n",
       "    'occluded': 1,\n",
       "    'alpha': -1.44,\n",
       "    'bbox': [468.7, 184.46, 520.7, 222.24],\n",
       "    'dimensions': [1.41, 1.58, 3.99],\n",
       "    'location': [-4.61, 1.4, 29.6],\n",
       "    'rotation_y': -1.59,\n",
       "    'score': None},\n",
       "   {'truncated': 0.0,\n",
       "    'occluded': 1,\n",
       "    'alpha': -1.45,\n",
       "    'bbox': [495.88, 184.18, 532.37, 211.01],\n",
       "    'dimensions': [1.42, 1.61, 3.56],\n",
       "    'location': [-5.27, 1.38, 40.66],\n",
       "    'rotation_y': -1.58,\n",
       "    'score': None},\n",
       "   {'truncated': 0.0,\n",
       "    'occluded': 3,\n",
       "    'alpha': -0.98,\n",
       "    'bbox': [0.3, 184.07, 191.68, 264.56],\n",
       "    'dimensions': [1.59, 1.71, 3.74],\n",
       "    'location': [-11.43, 1.58, 16.36],\n",
       "    'rotation_y': -1.59,\n",
       "    'score': None}]},\n",
       " {'Car': [{'truncated': 0.0,\n",
       "    'occluded': 0,\n",
       "    'alpha': 1.69,\n",
       "    'bbox': [407.6, 183.37, 456.4, 224.94],\n",
       "    'dimensions': [1.78, 1.72, 4.0],\n",
       "    'location': [-8.23, 2.29, 33.53],\n",
       "    'rotation_y': 1.45,\n",
       "    'score': None},\n",
       "   {'truncated': 0.0,\n",
       "    'occluded': 0,\n",
       "    'alpha': 1.9,\n",
       "    'bbox': [130.24, 200.8, 273.65, 280.48],\n",
       "    'dimensions': [1.47, 1.69, 3.74],\n",
       "    'location': [-9.13, 2.17, 16.41],\n",
       "    'rotation_y': 1.4,\n",
       "    'score': None},\n",
       "   {'truncated': 0.0,\n",
       "    'occluded': 1,\n",
       "    'alpha': 2.08,\n",
       "    'bbox': [18.39, 210.5, 175.58, 281.92],\n",
       "    'dimensions': [1.48, 1.54, 4.07],\n",
       "    'location': [-13.29, 2.56, 18.94],\n",
       "    'rotation_y': 1.47,\n",
       "    'score': None},\n",
       "   {'truncated': 0.0,\n",
       "    'occluded': 1,\n",
       "    'alpha': 0.19,\n",
       "    'bbox': [157.71, 196.63, 238.55, 220.76],\n",
       "    'dimensions': [1.43, 1.55, 4.37],\n",
       "    'location': [-26.85, 3.03, 47.13],\n",
       "    'rotation_y': -0.33,\n",
       "    'score': None},\n",
       "   {'truncated': 0.0,\n",
       "    'occluded': 0,\n",
       "    'alpha': 1.86,\n",
       "    'bbox': [871.93, 170.32, 913.67, 193.6],\n",
       "    'dimensions': [1.48, 1.61, 3.61],\n",
       "    'location': [18.71, 1.33, 47.71],\n",
       "    'rotation_y': 2.23,\n",
       "    'score': None},\n",
       "   {},\n",
       "   {}]},\n",
       " {'Car': [{'truncated': 0.96,\n",
       "    'occluded': 0,\n",
       "    'alpha': -0.86,\n",
       "    'bbox': [0.0, 201.55, 304.08, 369.0],\n",
       "    'dimensions': [1.5, 1.78, 3.69],\n",
       "    'location': [-3.16, 1.68, 3.36],\n",
       "    'rotation_y': -1.56,\n",
       "    'score': None},\n",
       "   {'truncated': 0.0,\n",
       "    'occluded': 0,\n",
       "    'alpha': 0.98,\n",
       "    'bbox': [484.14, 170.13, 564.93, 206.24],\n",
       "    'dimensions': [1.44, 1.64, 3.68],\n",
       "    'location': [-3.5, 1.03, 30.2],\n",
       "    'rotation_y': 0.87,\n",
       "    'score': None},\n",
       "   {'truncated': 0.14,\n",
       "    'occluded': 1,\n",
       "    'alpha': 2.09,\n",
       "    'bbox': [0.0, 182.85, 170.63, 261.38],\n",
       "    'dimensions': [1.63, 1.78, 4.54],\n",
       "    'location': [-12.81, 1.71, 17.39],\n",
       "    'rotation_y': 1.46,\n",
       "    'score': None},\n",
       "   {},\n",
       "   {},\n",
       "   {},\n",
       "   {}]}]"
      ]
     },
     "execution_count": 23,
     "metadata": {},
     "output_type": "execute_result"
    }
   ],
   "source": [
    "label"
   ]
  },
  {
   "cell_type": "markdown",
   "metadata": {},
   "source": [
    "Now, create the loss function:"
   ]
  },
  {
   "cell_type": "code",
   "execution_count": 17,
   "metadata": {},
   "outputs": [
    {
     "data": {
      "text/plain": [
       "[{'Car': [{}, {}, {}, {}, {}, {}, {}]},\n",
       " {'Car': [{'truncated': 0.0,\n",
       "    'occluded': 0,\n",
       "    'alpha': -1.57,\n",
       "    'bbox': [571.3, 178.99, 603.66, 208.48],\n",
       "    'dimensions': [1.6, 1.76, 3.84],\n",
       "    'location': [-1.18, 1.26, 41.34],\n",
       "    'rotation_y': -1.6,\n",
       "    'score': None},\n",
       "   {'truncated': 0.93,\n",
       "    'occluded': 0,\n",
       "    'alpha': -0.81,\n",
       "    'bbox': [0.0, 209.69, 212.48, 375.0],\n",
       "    'dimensions': [1.38, 1.71, 4.49],\n",
       "    'location': [-4.78, 1.64, 4.77],\n",
       "    'rotation_y': -1.56,\n",
       "    'score': None},\n",
       "   {'truncated': 0.0,\n",
       "    'occluded': 0,\n",
       "    'alpha': -1.09,\n",
       "    'bbox': [85.19, 186.17, 282.49, 280.48],\n",
       "    'dimensions': [1.54, 1.65, 3.82],\n",
       "    'location': [-8.03, 1.58, 14.0],\n",
       "    'rotation_y': -1.6,\n",
       "    'score': None},\n",
       "   {'truncated': 0.0,\n",
       "    'occluded': 1,\n",
       "    'alpha': -1.18,\n",
       "    'bbox': [246.43, 185.37, 368.07, 246.86],\n",
       "    'dimensions': [1.49, 1.67, 4.05],\n",
       "    'location': [-8.22, 1.52, 19.98],\n",
       "    'rotation_y': -1.57,\n",
       "    'score': None},\n",
       "   {'truncated': 0.0,\n",
       "    'occluded': 1,\n",
       "    'alpha': -1.44,\n",
       "    'bbox': [468.7, 184.46, 520.7, 222.24],\n",
       "    'dimensions': [1.41, 1.58, 3.99],\n",
       "    'location': [-4.61, 1.4, 29.6],\n",
       "    'rotation_y': -1.59,\n",
       "    'score': None},\n",
       "   {'truncated': 0.0,\n",
       "    'occluded': 1,\n",
       "    'alpha': -1.45,\n",
       "    'bbox': [495.88, 184.18, 532.37, 211.01],\n",
       "    'dimensions': [1.42, 1.61, 3.56],\n",
       "    'location': [-5.27, 1.38, 40.66],\n",
       "    'rotation_y': -1.58,\n",
       "    'score': None},\n",
       "   {'truncated': 0.0,\n",
       "    'occluded': 3,\n",
       "    'alpha': -0.98,\n",
       "    'bbox': [0.3, 184.07, 191.68, 264.56],\n",
       "    'dimensions': [1.59, 1.71, 3.74],\n",
       "    'location': [-11.43, 1.58, 16.36],\n",
       "    'rotation_y': -1.59,\n",
       "    'score': None}]},\n",
       " {'Car': [{'truncated': 0.0,\n",
       "    'occluded': 0,\n",
       "    'alpha': 1.69,\n",
       "    'bbox': [407.6, 183.37, 456.4, 224.94],\n",
       "    'dimensions': [1.78, 1.72, 4.0],\n",
       "    'location': [-8.23, 2.29, 33.53],\n",
       "    'rotation_y': 1.45,\n",
       "    'score': None},\n",
       "   {'truncated': 0.0,\n",
       "    'occluded': 0,\n",
       "    'alpha': 1.9,\n",
       "    'bbox': [130.24, 200.8, 273.65, 280.48],\n",
       "    'dimensions': [1.47, 1.69, 3.74],\n",
       "    'location': [-9.13, 2.17, 16.41],\n",
       "    'rotation_y': 1.4,\n",
       "    'score': None},\n",
       "   {'truncated': 0.0,\n",
       "    'occluded': 1,\n",
       "    'alpha': 2.08,\n",
       "    'bbox': [18.39, 210.5, 175.58, 281.92],\n",
       "    'dimensions': [1.48, 1.54, 4.07],\n",
       "    'location': [-13.29, 2.56, 18.94],\n",
       "    'rotation_y': 1.47,\n",
       "    'score': None},\n",
       "   {'truncated': 0.0,\n",
       "    'occluded': 1,\n",
       "    'alpha': 0.19,\n",
       "    'bbox': [157.71, 196.63, 238.55, 220.76],\n",
       "    'dimensions': [1.43, 1.55, 4.37],\n",
       "    'location': [-26.85, 3.03, 47.13],\n",
       "    'rotation_y': -0.33,\n",
       "    'score': None},\n",
       "   {'truncated': 0.0,\n",
       "    'occluded': 0,\n",
       "    'alpha': 1.86,\n",
       "    'bbox': [871.93, 170.32, 913.67, 193.6],\n",
       "    'dimensions': [1.48, 1.61, 3.61],\n",
       "    'location': [18.71, 1.33, 47.71],\n",
       "    'rotation_y': 2.23,\n",
       "    'score': None},\n",
       "   {},\n",
       "   {}]},\n",
       " {'Car': [{'truncated': 0.96,\n",
       "    'occluded': 0,\n",
       "    'alpha': -0.86,\n",
       "    'bbox': [0.0, 201.55, 304.08, 369.0],\n",
       "    'dimensions': [1.5, 1.78, 3.69],\n",
       "    'location': [-3.16, 1.68, 3.36],\n",
       "    'rotation_y': -1.56,\n",
       "    'score': None},\n",
       "   {'truncated': 0.0,\n",
       "    'occluded': 0,\n",
       "    'alpha': 0.98,\n",
       "    'bbox': [484.14, 170.13, 564.93, 206.24],\n",
       "    'dimensions': [1.44, 1.64, 3.68],\n",
       "    'location': [-3.5, 1.03, 30.2],\n",
       "    'rotation_y': 0.87,\n",
       "    'score': None},\n",
       "   {'truncated': 0.14,\n",
       "    'occluded': 1,\n",
       "    'alpha': 2.09,\n",
       "    'bbox': [0.0, 182.85, 170.63, 261.38],\n",
       "    'dimensions': [1.63, 1.78, 4.54],\n",
       "    'location': [-12.81, 1.71, 17.39],\n",
       "    'rotation_y': 1.46,\n",
       "    'score': None},\n",
       "   {},\n",
       "   {},\n",
       "   {},\n",
       "   {}]}]"
      ]
     },
     "execution_count": 17,
     "metadata": {},
     "output_type": "execute_result"
    }
   ],
   "source": [
    "\n",
    "class PointPillarLoss(nn.Module):\n",
    "    def __init__(self, alpha=0.25, gamma=2.0):\n",
    "        super(PointPillarLoss, self).__init__()\n",
    "        self.smooth_l1_loss = nn.SmoothL1Loss()\n",
    "        self.alpha = alpha\n",
    "        self.gamma = gamma\n",
    "\n",
    "    def forward(self, predictions, targets):\n",
    "        # Unpack predictions and targets\n",
    "        pred_boxes, pred_scores = predictions\n",
    "        gt_boxes, gt_scores = targets\n",
    "        \n",
    "        # Calculate the residuals for the boxes\n",
    "        da = torch.sqrt((pred_boxes[:, 3] - pred_boxes[:, 0])**2 + (pred_boxes[:, 4] - pred_boxes[:, 1])**2)\n",
    "        dx = (gt_boxes[:, 0] - pred_boxes[:, 0]) / da\n",
    "        dy = (gt_boxes[:, 1] - pred_boxes[:, 1]) / da\n",
    "        dz = (gt_boxes[:, 2] - pred_boxes[:, 2]) / pred_boxes[:, 5]\n",
    "        dw = torch.log(gt_boxes[:, 3] / pred_boxes[:, 3])\n",
    "        dl = torch.log(gt_boxes[:, 4] / pred_boxes[:, 4])\n",
    "        dh = torch.log(gt_boxes[:, 5] / pred_boxes[:, 5])\n",
    "        dtheta = torch.sin(gt_boxes[:, 6] - pred_boxes[:, 6])\n",
    "        \n",
    "        # Stack the residuals\n",
    "        residuals = torch.stack((dx, dy, dz, dw, dl, dh, dtheta), dim=1)\n",
    "        \n",
    "        # Calculate the SmoothL1 loss for localization\n",
    "        loc_loss = self.smooth_l1_loss(pred_boxes, residuals)\n",
    "        \n",
    "        # Calculate the Focal loss for classification\n",
    "        p = torch.sigmoid(pred_scores)\n",
    "        pt = p * gt_scores + (1 - p) * (1 - gt_scores)  # p_t\n",
    "        alpha_t = self.alpha * gt_scores + (1 - self.alpha) * (1 - gt_scores)\n",
    "        cls_loss = -alpha_t * (1 - pt) ** self.gamma * (gt_scores * torch.log(p) + (1 - gt_scores) * torch.log(1 - p))\n",
    "        \n",
    "        # Sum up the localization and classification losses\n",
    "        total_loss = loc_loss + cls_loss.sum()\n",
    "        \n",
    "        return total_loss\n",
    "\n",
    "# Example usage:\n",
    "model = ...  # Your model here\n",
    "criterion = PointPillarLoss()\n",
    "\n",
    "# Predictions from the model\n",
    "pred_boxes = ...  # Your predicted boxes here (Nx7)\n",
    "pred_scores = ...  # Your predicted scores here (Nx1)\n",
    "\n",
    "# Targets\n",
    "gt_boxes = ...  # Your ground truth boxes here (Nx7)\n",
    "gt_scores = ...  # Your ground truth scores here (Nx1)\n",
    "\n",
    "# Compute the loss\n",
    "loss = criterion((pred_boxes, pred_scores), (gt_boxes, gt_scores))\n",
    "\n"
   ]
  }
 ],
 "metadata": {
  "kernelspec": {
   "display_name": "Python 3 (ipykernel)",
   "language": "python",
   "name": "python3"
  },
  "language_info": {
   "codemirror_mode": {
    "name": "ipython",
    "version": 3
   },
   "file_extension": ".py",
   "mimetype": "text/x-python",
   "name": "python",
   "nbconvert_exporter": "python",
   "pygments_lexer": "ipython3",
   "version": "3.8.18"
  }
 },
 "nbformat": 4,
 "nbformat_minor": 5
}
