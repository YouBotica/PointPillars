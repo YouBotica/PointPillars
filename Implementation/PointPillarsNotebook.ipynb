{
 "cells": [
  {
   "cell_type": "code",
   "execution_count": 2,
   "id": "42732c6f",
   "metadata": {},
   "outputs": [
    {
     "name": "stdout",
     "output_type": "stream",
     "text": [
      "Can I can use GPU now? -- True\n"
     ]
    }
   ],
   "source": [
    "\n",
    "import os\n",
    "import pdb\n",
    "import torch\n",
    "import numpy as np\n",
    "from torch.utils.data import Dataset, DataLoader, random_split\n",
    "import matplotlib.pyplot as plt\n",
    "from mpl_toolkits.mplot3d import Axes3D\n",
    "import torch.nn as nn\n",
    "import random\n",
    "import copy\n",
    "import ipdb\n",
    "\n",
    "# Pipelines (a.k.a parts of the Neural Network)\n",
    "from Pipelines.kitti_loader import KITTIDataset\n",
    "from Pipelines.pillarizer import PillarFeatureNet, Pillarization, PseudoImageDataset\n",
    "from Pipelines.backbone import BackBone\n",
    "from Pipelines.detection_head import DetectionHead\n",
    "from Pipelines.anchors import Anchor, Box2D\n",
    "\n",
    "from Utils.transformations import transform_to_canvas, transform_to_grid, map_to_img\n",
    "from Utils.iou import calculate_iou\n",
    "from Utils.collate import normalize_annotations\n",
    "\n",
    "# Visualization tools:\n",
    "from Visualization.visz_pointcloud_w_label import plot_point_cloud_with_bboxes_o3d\n",
    "\n",
    "\n",
    "# Some Neural Network Parameters:\n",
    "AUG_DIM = 9\n",
    "MAX_POINTS_PER_PILLAR = 100\n",
    "MAX_FILLED_PILLARS = 12000\n",
    "X_MIN = 0.0\n",
    "X_MAX = 70.4\n",
    "Y_MIN = -40.0\n",
    "Y_MAX = 40.0\n",
    "Z_MIN = -3.0\n",
    "Z_MAX = 1.0\n",
    "PILLAR_SIZE = (0.16, 0.16)\n",
    "DESIRED_CLASSES = ['Car'] # More classes can be added here\n",
    "SCALE_FACTOR = 1.5\n",
    "\n",
    "\n",
    "ANCHORS = torch.tensor([[3.9, 1.6, 1.56, -1, 0], # Anchors as tensor: (height, width, height, z_center, orientation)\n",
    "                       [1.6, 3.9, 1.56, -1, 1.5708],\n",
    "                       [0.8, 0.6, 1.73, -0.6, 0],\n",
    "                       [0.6, 0.8, 1.73, -0.6, 1.5708]]\n",
    "                       )\n",
    "\n",
    "mapped_anchors = ANCHORS.detach().clone()\n",
    "mapped_anchors[:,0:2] /= PILLAR_SIZE[0]\n",
    "\n",
    "\n",
    "\n",
    "print(f'Can I can use GPU now? -- {torch.cuda.is_available()}')\n"
   ]
  },
  {
   "cell_type": "markdown",
   "id": "35dc7870",
   "metadata": {},
   "source": [
    "Load data from the KITTI dataset and perform train-test split:\n"
   ]
  },
  {
   "cell_type": "code",
   "execution_count": 3,
   "id": "b209d378",
   "metadata": {},
   "outputs": [],
   "source": [
    "train_pointclouds_dir = '/home/adlink/Documents/ECE-57000/ClassProject/Candidate2/PointPillars/dataset/kitti/training/velodyne_reduced'\n",
    "train_labels_dir = '/home/adlink/Documents/ECE-57000/ClassProject/Candidate2/PointPillars/dataset/kitti/training/label_2'\n",
    "test_pointclouds_dir = '/home/adlink/Documents/ECE-57000/ClassProject/Candidate2/PointPillars/dataset/kitti/testing/velodyne_reduced'\n",
    "\n",
    "train_set = KITTIDataset(pointcloud_dir=train_pointclouds_dir, labels_dir=train_labels_dir)\n",
    "\n",
    "# TODO: Add Loader for test set (No labels)\n",
    "\n",
    "\n"
   ]
  },
  {
   "cell_type": "markdown",
   "metadata": {},
   "source": [
    "Visualize a pointcloud with its annotations"
   ]
  },
  {
   "cell_type": "code",
   "execution_count": 6,
   "metadata": {},
   "outputs": [
    {
     "name": "stdout",
     "output_type": "stream",
     "text": [
      "File loaded: /home/adlink/Documents/ECE-57000/ClassProject/Candidate2/PointPillars/dataset/kitti/training/velodyne_reduced/006066.bin\n"
     ]
    }
   ],
   "source": [
    "# Example usage:\n",
    "random_idx_sample = random.randint(0,7000)\n",
    "point_cloud, labels_to_show = train_set[0]  # TODO: Is it necessary to rotate bounding box 90 deg?\n",
    "geometries = plot_point_cloud_with_bboxes_o3d(point_cloud.numpy(), labels_to_show)"
   ]
  },
  {
   "cell_type": "markdown",
   "metadata": {},
   "source": [
    "Batch data:"
   ]
  },
  {
   "cell_type": "code",
   "execution_count": 4,
   "metadata": {},
   "outputs": [
    {
     "name": "stdout",
     "output_type": "stream",
     "text": [
      "File loaded: /home/adlink/Documents/ECE-57000/ClassProject/Candidate2/PointPillars/dataset/kitti/training/velodyne_reduced/006066.bin\n"
     ]
    },
    {
     "name": "stderr",
     "output_type": "stream",
     "text": [
      "/home/adlink/Documents/ECE-57000/ClassProject/github/PointPillars/Implementation/Pipelines/kitti_loader.py:50: UserWarning: The given NumPy array is not writable, and PyTorch does not support non-writable tensors. This means writing to this tensor will result in undefined behavior. You may want to copy the array to protect its data or make it writable before converting it to a tensor. This type of warning will be suppressed for the rest of this program. (Triggered internally at ../torch/csrc/utils/tensor_numpy.cpp:206.)\n",
      "  return torch.from_numpy(point_cloud)\n"
     ]
    },
    {
     "name": "stdout",
     "output_type": "stream",
     "text": [
      "Loading point cloud number 0\n",
      "File loaded: /home/adlink/Documents/ECE-57000/ClassProject/Candidate2/PointPillars/dataset/kitti/training/velodyne_reduced/004407.bin\n",
      "Loading point cloud number 1\n",
      "File loaded: /home/adlink/Documents/ECE-57000/ClassProject/Candidate2/PointPillars/dataset/kitti/training/velodyne_reduced/002395.bin\n",
      "Loading point cloud number 2\n",
      "File loaded: /home/adlink/Documents/ECE-57000/ClassProject/Candidate2/PointPillars/dataset/kitti/training/velodyne_reduced/005517.bin\n",
      "Loading point cloud number 3\n"
     ]
    }
   ],
   "source": [
    "# IMPORTANT: Set to CPU for pillarization otherwise, expect GPU memory to overflow\n",
    "device =  torch.device('cpu')\n",
    "\n",
    "# Create a collate function to handle variable-sized labels:\n",
    "def collate_batch(batch):\n",
    "    point_clouds, annotations = zip(*batch)\n",
    "    point_clouds = torch.stack(point_clouds, dim=0)\n",
    "    \n",
    "    normalized_annotations = normalize_annotations(annotations, pillar_size=PILLAR_SIZE,\n",
    "        x_lims=(X_MIN, X_MAX), y_lims=(Y_MIN, Y_MAX))\n",
    "    \n",
    "    return point_clouds, normalized_annotations\n",
    "\n",
    "'''def collate_batch(batch):\n",
    "    point_clouds, annotations = zip(*batch)\n",
    "    \n",
    "    # Convert lists of point clouds and annotations into tensors\n",
    "    point_clouds = torch.stack(point_clouds, dim=0)\n",
    "    \n",
    "    # Padding for variable-sized labels:\n",
    "    max_annotations = max(len(a['Car']) for a in annotations)\n",
    "    padded_annotations = []\n",
    "    for a in annotations:\n",
    "        # Pad each annotation to have max_annotations entries\n",
    "        car_annotations = a['Car'] + [{}] * (max_annotations - len(a['Car']))\n",
    "        padded_annotations.append({'Car': car_annotations})\n",
    "    \n",
    "    return point_clouds, padded_annotations'''\n",
    "\n",
    "        \n",
    "# Create the dataset and DataLoader\n",
    "dataset = PseudoImageDataset(pointcloud_dir=train_pointclouds_dir, device=device, kitti_dataset=train_set, aug_dim=AUG_DIM, max_points_in_pillar=MAX_POINTS_PER_PILLAR,\n",
    "                             max_pillars=MAX_FILLED_PILLARS, x_min=X_MIN, y_min=Y_MIN, z_min=Z_MIN, x_max = X_MAX, y_max=Y_MAX,\n",
    "                             z_max = Z_MAX, pillar_size=PILLAR_SIZE)\n",
    "\n",
    "train_loader = DataLoader(dataset, batch_size=4, shuffle=False, collate_fn=collate_batch) # FIXME: Set batch to 4 again\n",
    "\n",
    "\n",
    "# Iterate through batches:  \n",
    "for batch_idx, (pseudo_image, batched_labels) in enumerate(train_loader):\n",
    "    break # TODO: Erase this and pass the entire dataset"
   ]
  },
  {
   "cell_type": "code",
   "execution_count": 6,
   "metadata": {},
   "outputs": [
    {
     "data": {
      "text/plain": [
       "torch.Size([500, 440])"
      ]
     },
     "execution_count": 6,
     "metadata": {},
     "output_type": "execute_result"
    }
   ],
   "source": [
    "batched_labels[0][0]\n",
    "pseudo_image.size()\n",
    "# Sum over channels for the original features\n",
    "pseudo_image_raw = torch.sum(pseudo_image[0, :, :, :], dim=0).detach()#.numpy()\n",
    "pseudo_image_raw.size()"
   ]
  },
  {
   "cell_type": "code",
   "execution_count": 8,
   "metadata": {},
   "outputs": [
    {
     "data": {
      "text/plain": [
       "<matplotlib.image.AxesImage at 0x7f4fd847afa0>"
      ]
     },
     "execution_count": 8,
     "metadata": {},
     "output_type": "execute_result"
    },
    {
     "data": {
      "image/png": "[encoded data removed]",
      "text/plain": [
       "<Figure size 640x480 with 1 Axes>"
      ]
     },
     "metadata": {},
     "output_type": "display_data"
    }
   ],
   "source": [
    "pseudo_image.size()\n",
    "# Sum over channels for the original features\n",
    "pseudo_image_raw = torch.sum(pseudo_image[0, :, :, :], dim=0).detach()#.numpy()\n",
    "#plt.imshow(pseudo_image_raw, cmap='gray')\n",
    "#plt.title('Features Summed Over Channels')\n",
    "\n",
    "# TODO: Plot labels on pseudo-image:\n",
    "\n",
    "'''orig_x, orig_y, orig_z, orig_h, orig_w, orig_l, orig_ry,\n",
    "norm_x, norm_y, norm_z, norm_h, norm_w, norm_l, orig_ry  # Note: rotation_y remains the same'''\n",
    "\n",
    "fig, ax = plt.subplots() \n",
    "\n",
    "labels = batched_labels[0] # FIXME: This is just the first element of the batch\n",
    "\n",
    "\n",
    "# TODO: Generate anchor objects and anchor grids:\n",
    "anchors_list = []\n",
    "for anchor_tensor in mapped_anchors: # NOTE: This is regardless of the batch, it is for all the training and testing\n",
    "    anchor = Anchor(anchor_tensor[1], anchor_tensor[0])\n",
    "    anchor.create_anchor_grid(pseudo_image)\n",
    "    anchors_list.append(anchor)\n",
    "\n",
    "for gt in labels:\n",
    "    x_lims = (0.0, pseudo_image.size()[-1])\n",
    "    y_lims = (0.0, pseudo_image.size()[-2])\n",
    "    x_anchor = gt[7] - gt[12]/2    \n",
    "    y_anchor = gt[8] - gt[11]/2\n",
    "    height = gt[11]\n",
    "    width = gt[12]\n",
    "    # (self, x_lims: tuple, y_lims: tuple, x_anchor: float, y_anchor: float, height: float, width: float)\n",
    "    box = Box2D(x_lims, y_lims, x_anchor, y_anchor, height, width)\n",
    "    ax.add_patch(box.create_marker(color='g'))\n",
    "\n",
    "for x in anchors_list[0].grid_x: #FIXME: Hardcoded anchor and uncomment to visualize anchor grids\n",
    "    ax.axvline(x=x, color='b', alpha=0.5)\n",
    "\n",
    "for y in anchors_list[0].grid_y: # FIXME: Hardcoded anchor\n",
    "    ax.axhline(y=y, color='b', alpha=0.5)\n",
    "\n",
    "ax.imshow(pseudo_image_raw) # Plot batched_image here"
   ]
  },
  {
   "cell_type": "code",
   "execution_count": 6,
   "metadata": {},
   "outputs": [],
   "source": [
    "# After pillarization and batching, we can start using the GPU:\n",
    "device = 'cuda' if torch.cuda.is_available() else 'cpu'"
   ]
  },
  {
   "cell_type": "markdown",
   "metadata": {},
   "source": [
    "Backbone pipeline:"
   ]
  },
  {
   "cell_type": "code",
   "execution_count": 7,
   "metadata": {},
   "outputs": [
    {
     "ename": "IndexError",
     "evalue": "index 3 is out of bounds for dimension 0 with size 1",
     "output_type": "error",
     "traceback": [
      "\u001b[0;31m---------------------------------------------------------------------------\u001b[0m",
      "\u001b[0;31mIndexError\u001b[0m                                Traceback (most recent call last)",
      "\u001b[1;32m/home/adlink/Documents/ECE-57000/ClassProject/github/PointPillars/Implementation/PointPillarsNotebook.ipynb Cell 12\u001b[0m line \u001b[0;36m8\n\u001b[1;32m      <a href='vscode-notebook-cell:/home/adlink/Documents/ECE-57000/ClassProject/github/PointPillars/Implementation/PointPillarsNotebook.ipynb#X13sZmlsZQ%3D%3D?line=3'>4</a>\u001b[0m backbone_features \u001b[39m=\u001b[39m backbone(pseudo_image)\n\u001b[1;32m      <a href='vscode-notebook-cell:/home/adlink/Documents/ECE-57000/ClassProject/github/PointPillars/Implementation/PointPillarsNotebook.ipynb#X13sZmlsZQ%3D%3D?line=6'>7</a>\u001b[0m \u001b[39m# Sum over channels for the original features\u001b[39;00m\n\u001b[0;32m----> <a href='vscode-notebook-cell:/home/adlink/Documents/ECE-57000/ClassProject/github/PointPillars/Implementation/PointPillarsNotebook.ipynb#X13sZmlsZQ%3D%3D?line=7'>8</a>\u001b[0m backbone_raw \u001b[39m=\u001b[39m torch\u001b[39m.\u001b[39msum(backbone_features[\u001b[39m3\u001b[39;49m, :, :, :], dim\u001b[39m=\u001b[39m\u001b[39m0\u001b[39m)\u001b[39m.\u001b[39mdetach()\u001b[39m.\u001b[39mnumpy() \u001b[39m# FIXME: Hardcoded batch_size\u001b[39;00m\n\u001b[1;32m      <a href='vscode-notebook-cell:/home/adlink/Documents/ECE-57000/ClassProject/github/PointPillars/Implementation/PointPillarsNotebook.ipynb#X13sZmlsZQ%3D%3D?line=8'>9</a>\u001b[0m plt\u001b[39m.\u001b[39mimshow(backbone_raw, cmap\u001b[39m=\u001b[39m\u001b[39m'\u001b[39m\u001b[39mgray\u001b[39m\u001b[39m'\u001b[39m)\n\u001b[1;32m     <a href='vscode-notebook-cell:/home/adlink/Documents/ECE-57000/ClassProject/github/PointPillars/Implementation/PointPillarsNotebook.ipynb#X13sZmlsZQ%3D%3D?line=9'>10</a>\u001b[0m plt\u001b[39m.\u001b[39mtitle(\u001b[39m'\u001b[39m\u001b[39mFeatures Summed Over Channels\u001b[39m\u001b[39m'\u001b[39m)\n",
      "\u001b[0;31mIndexError\u001b[0m: index 3 is out of bounds for dimension 0 with size 1"
     ]
    }
   ],
   "source": [
    "# Forward pass through the backbone:\n",
    "\n",
    "backbone = BackBone(in_channels=64, out_channels=64, device=device)\n",
    "backbone_features = backbone(pseudo_image)\n",
    "\n",
    "\n",
    "# Sum over channels for the original features\n",
    "backbone_raw = torch.sum(backbone_features[3, :, :, :], dim=0).detach().numpy() # FIXME: Hardcoded batch_size\n",
    "plt.imshow(backbone_raw, cmap='gray')\n",
    "plt.title('Features Summed Over Channels')"
   ]
  },
  {
   "cell_type": "markdown",
   "metadata": {},
   "source": [
    "Now, implement the Detection Head:"
   ]
  },
  {
   "cell_type": "code",
   "execution_count": 8,
   "metadata": {},
   "outputs": [],
   "source": [
    "#backbone_output = torch.randn(4, backbone_features.size()[1], 252, 252) # Example feature map from backbone\n",
    "detection_head = DetectionHead(device=device, in_channels=backbone_features.size()[1], grid_size_x=backbone_features.size()[2], \n",
    "                        grid_size_y=backbone_features.size()[3], num_anchors=4, num_classes=2) #TODO: Initialize with correct parameters\n",
    "loc, size, clf, occupancy, angle, heading = detection_head(backbone_features)"
   ]
  },
  {
   "cell_type": "code",
   "execution_count": 9,
   "metadata": {},
   "outputs": [
    {
     "data": {
      "text/plain": [
       "torch.Size([4, 4, 3, 500, 440])"
      ]
     },
     "execution_count": 9,
     "metadata": {},
     "output_type": "execute_result"
    }
   ],
   "source": [
    "loc.size()"
   ]
  },
  {
   "cell_type": "markdown",
   "metadata": {},
   "source": [
    "Create anchors for Single-Shot Detector:"
   ]
  },
  {
   "cell_type": "code",
   "execution_count": 31,
   "metadata": {},
   "outputs": [
    {
     "name": "stdout",
     "output_type": "stream",
     "text": [
      "> \u001b[0;32m/tmp/ipykernel_3181216/4194344113.py\u001b[0m(5)\u001b[0;36m<module>\u001b[0;34m()\u001b[0m\n",
      "\u001b[0;32m      4 \u001b[0;31m\u001b[0;32mfor\u001b[0m \u001b[0mn_batch\u001b[0m\u001b[0;34m,\u001b[0m \u001b[0mlabels\u001b[0m \u001b[0;32min\u001b[0m \u001b[0menumerate\u001b[0m\u001b[0;34m(\u001b[0m\u001b[0mbatched_labels\u001b[0m\u001b[0;34m)\u001b[0m\u001b[0;34m:\u001b[0m\u001b[0;34m\u001b[0m\u001b[0;34m\u001b[0m\u001b[0m\n",
      "\u001b[0m\u001b[0;32m----> 5 \u001b[0;31m    \u001b[0;32mfor\u001b[0m \u001b[0mn_label\u001b[0m \u001b[0;32min\u001b[0m \u001b[0mrange\u001b[0m\u001b[0;34m(\u001b[0m\u001b[0mlabels\u001b[0m\u001b[0;34m.\u001b[0m\u001b[0msize\u001b[0m\u001b[0;34m(\u001b[0m\u001b[0;36m0\u001b[0m\u001b[0;34m)\u001b[0m\u001b[0;34m)\u001b[0m\u001b[0;34m:\u001b[0m\u001b[0;34m\u001b[0m\u001b[0;34m\u001b[0m\u001b[0m\n",
      "\u001b[0m\u001b[0;32m      6 \u001b[0;31m        \u001b[0mx_lim\u001b[0m \u001b[0;34m=\u001b[0m \u001b[0;34m(\u001b[0m\u001b[0;36m0\u001b[0m\u001b[0;34m,\u001b[0m \u001b[0mloc\u001b[0m\u001b[0;34m.\u001b[0m\u001b[0msize\u001b[0m\u001b[0;34m(\u001b[0m\u001b[0;34m)\u001b[0m\u001b[0;34m[\u001b[0m\u001b[0;34m-\u001b[0m\u001b[0;36m1\u001b[0m\u001b[0;34m]\u001b[0m\u001b[0;34m)\u001b[0m\u001b[0;34m\u001b[0m\u001b[0;34m\u001b[0m\u001b[0m\n",
      "\u001b[0m\n",
      "tensor([[-5.6800e+00,  1.6200e+00,  8.1200e+00,  1.5200e+00,  1.6900e+00,\n",
      "          3.6800e+00,  3.0000e-02, -3.5500e+01,  1.0125e+01,  5.0750e+01,\n",
      "          9.5000e+00,  1.0562e+01,  2.3000e+01,  3.0000e-02],\n",
      "        [-6.4300e+00,  1.6100e+00,  1.0500e+01,  1.4500e+00,  1.5500e+00,\n",
      "          3.2100e+00, -3.1200e+00, -4.0188e+01,  1.0062e+01,  6.5625e+01,\n",
      "          9.0625e+00,  9.6875e+00,  2.0062e+01, -3.1200e+00],\n",
      "        [-6.9700e+00,  1.6300e+00,  1.7630e+01,  1.5700e+00,  1.4700e+00,\n",
      "          3.2300e+00, -3.1200e+00, -4.3562e+01,  1.0188e+01,  1.1019e+02,\n",
      "          9.8125e+00,  9.1875e+00,  2.0188e+01, -3.1200e+00],\n",
      "        [-6.7800e+00,  1.6200e+00,  1.9660e+01,  1.4300e+00,  1.5700e+00,\n",
      "          3.4600e+00,  3.1400e+00, -4.2375e+01,  1.0125e+01,  1.2288e+02,\n",
      "          8.9375e+00,  9.8125e+00,  2.1625e+01,  3.1400e+00],\n",
      "        [ 6.1200e+00,  1.5600e+00,  2.6550e+01,  1.4200e+00,  1.5600e+00,\n",
      "          3.4800e+00, -2.0800e+00,  3.8250e+01,  9.7500e+00,  1.6594e+02,\n",
      "          8.8750e+00,  9.7500e+00,  2.1750e+01, -2.0800e+00],\n",
      "        [ 1.8200e+00,  1.6000e+00,  3.8800e+01,  1.4100e+00,  1.5100e+00,\n",
      "          3.4500e+00, -1.7100e+00,  1.1375e+01,  1.0000e+01,  2.4250e+02,\n",
      "          8.8125e+00,  9.4375e+00,  2.1562e+01, -1.7100e+00],\n",
      "        [-7.1500e+00,  1.6500e+00,  3.4280e+01,  1.4400e+00,  1.6400e+00,\n",
      "          4.0100e+00,  3.1200e+00, -4.4688e+01,  1.0312e+01,  2.1425e+02,\n",
      "          9.0000e+00,  1.0250e+01,  2.5062e+01,  3.1200e+00],\n",
      "        [ 0.0000e+00,  0.0000e+00,  0.0000e+00,  0.0000e+00,  0.0000e+00,\n",
      "          0.0000e+00,  0.0000e+00,  0.0000e+00,  0.0000e+00,  0.0000e+00,\n",
      "          0.0000e+00,  0.0000e+00,  0.0000e+00,  0.0000e+00]])\n",
      "tensor([[-5.6800e+00,  1.6200e+00,  8.1200e+00,  1.5200e+00,  1.6900e+00,\n",
      "          3.6800e+00,  3.0000e-02, -3.5500e+01,  1.0125e+01,  5.0750e+01,\n",
      "          9.5000e+00,  1.0562e+01,  2.3000e+01,  3.0000e-02],\n",
      "        [-6.4300e+00,  1.6100e+00,  1.0500e+01,  1.4500e+00,  1.5500e+00,\n",
      "          3.2100e+00, -3.1200e+00, -4.0188e+01,  1.0062e+01,  6.5625e+01,\n",
      "          9.0625e+00,  9.6875e+00,  2.0062e+01, -3.1200e+00],\n",
      "        [-6.9700e+00,  1.6300e+00,  1.7630e+01,  1.5700e+00,  1.4700e+00,\n",
      "          3.2300e+00, -3.1200e+00, -4.3562e+01,  1.0188e+01,  1.1019e+02,\n",
      "          9.8125e+00,  9.1875e+00,  2.0188e+01, -3.1200e+00],\n",
      "        [-6.7800e+00,  1.6200e+00,  1.9660e+01,  1.4300e+00,  1.5700e+00,\n",
      "          3.4600e+00,  3.1400e+00, -4.2375e+01,  1.0125e+01,  1.2288e+02,\n",
      "          8.9375e+00,  9.8125e+00,  2.1625e+01,  3.1400e+00],\n",
      "        [ 6.1200e+00,  1.5600e+00,  2.6550e+01,  1.4200e+00,  1.5600e+00,\n",
      "          3.4800e+00, -2.0800e+00,  3.8250e+01,  9.7500e+00,  1.6594e+02,\n",
      "          8.8750e+00,  9.7500e+00,  2.1750e+01, -2.0800e+00],\n",
      "        [ 1.8200e+00,  1.6000e+00,  3.8800e+01,  1.4100e+00,  1.5100e+00,\n",
      "          3.4500e+00, -1.7100e+00,  1.1375e+01,  1.0000e+01,  2.4250e+02,\n",
      "          8.8125e+00,  9.4375e+00,  2.1562e+01, -1.7100e+00],\n",
      "        [-7.1500e+00,  1.6500e+00,  3.4280e+01,  1.4400e+00,  1.6400e+00,\n",
      "          4.0100e+00,  3.1200e+00, -4.4688e+01,  1.0312e+01,  2.1425e+02,\n",
      "          9.0000e+00,  1.0250e+01,  2.5062e+01,  3.1200e+00],\n",
      "        [ 0.0000e+00,  0.0000e+00,  0.0000e+00,  0.0000e+00,  0.0000e+00,\n",
      "          0.0000e+00,  0.0000e+00,  0.0000e+00,  0.0000e+00,  0.0000e+00,\n",
      "          0.0000e+00,  0.0000e+00,  0.0000e+00,  0.0000e+00]])\n",
      "tensor(-35.5000)\n",
      "tensor(-35.5000)\n",
      "tensor(-35.5000)\n",
      "tensor([-5.6800e+00,  1.6200e+00,  8.1200e+00,  1.5200e+00,  1.6900e+00,\n",
      "         3.6800e+00,  3.0000e-02, -3.5500e+01,  1.0125e+01,  5.0750e+01,\n",
      "         9.5000e+00,  1.0562e+01,  2.3000e+01,  3.0000e-02])\n"
     ]
    }
   ],
   "source": [
    "# TODO: Generate gt_boxes_dict {batch: list(Box2D)}\n",
    "gt_boxes_dict = {}\n",
    "\n",
    "for n_batch, labels in enumerate(batched_labels):\n",
    "    for n_label in range(labels.size(0)):\n",
    "        x_lim = (0, loc.size()[-1])\n",
    "        y_lim = (0, loc.size()[-2])\n",
    "        ipdb.set_trace()\n",
    "        #x_2D = labels[]\n",
    "\n",
    "\n"
   ]
  },
  {
   "cell_type": "code",
   "execution_count": 10,
   "metadata": {},
   "outputs": [
    {
     "data": {
      "text/plain": [
       "tensor([-5.6800e+00,  1.6200e+00,  8.1200e+00,  1.5200e+00,  1.6900e+00,\n",
       "         3.6800e+00,  3.0000e-02, -5.0750e+01,  3.5500e+01,  5.0750e+01,\n",
       "         9.5000e+00,  1.0562e+01,  2.3000e+01,  3.0000e-02])"
      ]
     },
     "execution_count": 10,
     "metadata": {},
     "output_type": "execute_result"
    }
   ],
   "source": [
    "'''orig_x, orig_y, orig_z, orig_h, orig_w, orig_l, orig_ry,\n",
    "norm_x, norm_y, norm_z, norm_h, norm_w, norm_l, orig_ry  # Note: rotation_y remains the same'''\n",
    "batched_labels[0][0]"
   ]
  },
  {
   "cell_type": "code",
   "execution_count": 10,
   "metadata": {},
   "outputs": [
    {
     "data": {
      "text/plain": [
       "tensor([10.5625, 23.0000])"
      ]
     },
     "execution_count": 10,
     "metadata": {},
     "output_type": "execute_result"
    }
   ],
   "source": [
    "# TODO: Get ROIs in a vectorized way and get indices of interest:\n",
    "roi_labels = labels\n",
    "roi_labels[:,:,-3:-1] = labels[:,:,-3:-1]*SCALE_FACTOR\n",
    "\n",
    "\n",
    "\n",
    "roi_labels[0,0,-3:-1]"
   ]
  },
  {
   "cell_type": "code",
   "execution_count": 15,
   "metadata": {},
   "outputs": [
    {
     "data": {
      "text/plain": [
       "tensor([15.8438, 34.5000])"
      ]
     },
     "execution_count": 15,
     "metadata": {},
     "output_type": "execute_result"
    }
   ],
   "source": [
    "''' Gets best detection fit per anchor per target\n",
    "    Desired output: {target: best_anchor}, a dictionary of size n_targets\n",
    "'''\n",
    "\n",
    "anchors_list = []\n",
    "\n",
    "for i in range(mapped_anchors.size()[0]):\n",
    "    anchor = Anchor(width=mapped_anchors[i][1], height=mapped_anchors[i][0])\n",
    "    #num_anchors_x = int(torch.round(batched_random_image.size()[-1] / anchor.width))  # TODO: Add num_anchors_x and y as class attributes\n",
    "    #num_anchors_y = int(torch.round(batched_random_image.size()[-2] / anchor.height)) # TODO: Change to real batch of pseudo-images\n",
    "    anchor.create_anchor_grid()\n",
    "    anchors_list.append(anchor)\n",
    "\n",
    "\n",
    "current_iou = 0.0 # Intersection over union as a metric to determine which anchor best fits the regression target\n",
    "gt_with_target_anchor_dict = {key: (None, (None, None), current_iou) for key in gt_boxes} # Initialize dictionary with IoU = 0.0\n",
    "\n",
    "for anchor in anchors_list:  # Next anchor\n",
    "  # Create grid on feature map with the current anchor\n",
    "  # anchor.create_anchor_grid(batched_random_image) FIXME: DEPRECATE?\n",
    "  ROI_dict = anchor.get_ROI_indices(batched_random_image, roi_boxes) # \n",
    "\n",
    "  for n_target, ROI in enumerate(ROI_dict): # Next label\n",
    "    gt_target = gt_boxes[n_target]\n",
    "    lower_x_idx, lower_y_idx = ROI_dict[ROI][0][0], ROI_dict[ROI][0][1]\n",
    "    upper_x_idx, upper_y_idx = ROI_dict[ROI][1][0], ROI_dict[ROI][1][1]\n",
    "\n",
    "\n",
    "    if (gt_with_target_anchor_dict[gt_target][-1] >= 0.5): # Already matched\n",
    "      continue\n",
    "\n",
    "    found_target = False # breaker of feature_map scan iterator\n",
    "    current_iou = 0.0 # Refresh iou before searching again\n",
    "    for i in range(lower_x_idx, upper_x_idx):\n",
    "      if found_target: \n",
    "        break\n",
    "\n",
    "      for j in range(lower_y_idx, upper_y_idx):\n",
    "        anchor_box = Box2D( # Class should be declared before calling this ibject\n",
    "          x_lims=(0.0, batched_random_image.size()[-1]), y_lims=(0.0, batched_random_image.size()[-2]),\n",
    "          x_anchor=anchor.grid_x[i], y_anchor=anchor.grid_y[j], height=anchor.height, width=anchor.width)\n",
    "        \n",
    "        current_iou = calculate_iou(anchor_box, gt_target)\n",
    "        if current_iou > gt_with_target_anchor_dict[gt_target][-1]:\n",
    "          print(current_iou)\n",
    "          gt_with_target_anchor_dict[gt_target] = (anchor, (i,j), current_iou)\n",
    "\n",
    "          if current_iou >= 0.5:\n",
    "            found_target = True # Target for the anchor found (ignore rest even if higher IoU)\n",
    "            break # Break 2 for loops"
   ]
  },
  {
   "cell_type": "code",
   "execution_count": 19,
   "metadata": {},
   "outputs": [
    {
     "data": {
      "text/plain": [
       "torch.Size([4, 8, 14])"
      ]
     },
     "execution_count": 19,
     "metadata": {},
     "output_type": "execute_result"
    }
   ],
   "source": [
    "labels.size()"
   ]
  },
  {
   "cell_type": "code",
   "execution_count": 13,
   "metadata": {},
   "outputs": [
    {
     "data": {
      "text/plain": [
       "torch.Size([4, 8, 14])"
      ]
     },
     "execution_count": 13,
     "metadata": {},
     "output_type": "execute_result"
    }
   ],
   "source": [
    "labels.size()\n"
   ]
  },
  {
   "cell_type": "code",
   "execution_count": 24,
   "metadata": {},
   "outputs": [
    {
     "data": {
      "text/plain": [
       "tensor([15.8438])"
      ]
     },
     "execution_count": 24,
     "metadata": {},
     "output_type": "execute_result"
    }
   ],
   "source": [
    "'''orig_x, orig_y, orig_z, orig_h, orig_w, orig_l, orig_ry,\n",
    "norm_x, norm_y, norm_z, norm_h, norm_w, norm_l, orig_ry  # Note: rotation_y remains the same'''\n",
    "roi_labels[0,0,-3:-1]"
   ]
  },
  {
   "cell_type": "code",
   "execution_count": 19,
   "metadata": {},
   "outputs": [
    {
     "data": {
      "text/plain": [
       "tensor([14.5312, 30.0938])"
      ]
     },
     "execution_count": 19,
     "metadata": {},
     "output_type": "execute_result"
    }
   ],
   "source": [
    "labels[0,1,-3:-1]*SCALE_FACTOR"
   ]
  },
  {
   "cell_type": "code",
   "execution_count": 24,
   "metadata": {},
   "outputs": [
    {
     "name": "stdout",
     "output_type": "stream",
     "text": [
      "{'truncated': 0.3, 'occluded': 3, 'alpha': 0.62, 'bbox': [0.0, 180.58, 305.09, 333.32], 'dimensions': [1.52, 1.69, 3.68], 'location': [-5.68, 1.62, 8.12], 'rotation_y': 0.03, 'score': None}\n",
      "{'truncated': 0.0, 'occluded': 2, 'alpha': -2.58, 'bbox': [18.95, 182.56, 305.16, 292.4], 'dimensions': [1.45, 1.55, 3.21], 'location': [-6.43, 1.61, 10.5], 'rotation_y': -3.12, 'score': None}\n",
      "{'truncated': 0.0, 'occluded': 1, 'alpha': -2.74, 'bbox': [245.18, 174.2, 401.84, 242.51], 'dimensions': [1.57, 1.47, 3.23], 'location': [-6.97, 1.63, 17.63], 'rotation_y': -3.12, 'score': None}\n",
      "{'truncated': 0.0, 'occluded': 2, 'alpha': -2.82, 'bbox': [286.23, 179.08, 433.18, 235.19], 'dimensions': [1.43, 1.57, 3.46], 'location': [-6.78, 1.62, 19.66], 'rotation_y': 3.14, 'score': None}\n",
      "{'truncated': 0.0, 'occluded': 0, 'alpha': -2.31, 'bbox': [730.21, 176.0, 828.5, 217.98], 'dimensions': [1.42, 1.56, 3.48], 'location': [6.12, 1.56, 26.55], 'rotation_y': -2.08, 'score': None}\n",
      "{'truncated': 0.0, 'occluded': 0, 'alpha': -1.76, 'bbox': [625.17, 176.19, 665.14, 203.88], 'dimensions': [1.41, 1.51, 3.45], 'location': [1.82, 1.6, 38.8], 'rotation_y': -1.71, 'score': None}\n",
      "{'truncated': 0.0, 'occluded': 2, 'alpha': -2.96, 'bbox': [413.47, 176.66, 504.85, 208.65], 'dimensions': [1.44, 1.64, 4.01], 'location': [-7.15, 1.65, 34.28], 'rotation_y': 3.12, 'score': None}\n",
      "Empty!\n",
      "{'truncated': 0.0, 'occluded': 0, 'alpha': 2.04, 'bbox': [174.34, 189.92, 291.1, 236.29], 'dimensions': [1.5, 1.95, 4.6], 'location': [-13.9, 2.17, 26.87], 'rotation_y': 1.57, 'score': None}\n",
      "{'truncated': 0.0, 'occluded': 0, 'alpha': 1.81, 'bbox': [426.67, 182.78, 463.21, 205.86], 'dimensions': [1.84, 2.04, 4.33], 'location': [-13.91, 2.7, 60.95], 'rotation_y': 1.58, 'score': None}\n",
      "Empty!\n",
      "Empty!\n",
      "Empty!\n",
      "Empty!\n",
      "Empty!\n",
      "Empty!\n",
      "{'truncated': 0.0, 'occluded': 0, 'alpha': -1.58, 'bbox': [517.96, 162.6, 739.56, 372.66], 'dimensions': [1.55, 1.63, 3.32], 'location': [0.09, 1.5, 7.02], 'rotation_y': -1.57, 'score': None}\n",
      "{'truncated': 0.0, 'occluded': 0, 'alpha': 1.84, 'bbox': [377.52, 185.03, 417.62, 205.05], 'dimensions': [1.37, 1.82, 3.96], 'location': [-15.57, 2.29, 52.99], 'rotation_y': 1.56, 'score': None}\n",
      "{'truncated': 0.0, 'occluded': 0, 'alpha': 1.92, 'bbox': [334.26, 187.91, 373.94, 208.29], 'dimensions': [1.38, 1.79, 2.94], 'location': [-18.44, 2.49, 52.03], 'rotation_y': 1.58, 'score': None}\n",
      "{'truncated': 0.0, 'occluded': 0, 'alpha': 1.8, 'bbox': [424.52, 181.43, 463.23, 201.52], 'dimensions': [1.4, 1.75, 4.75], 'location': [-12.31, 2.05, 53.64], 'rotation_y': 1.58, 'score': None}\n",
      "{'truncated': 0.0, 'occluded': 1, 'alpha': 2.67, 'bbox': [947.68, 174.51, 1085.64, 218.59], 'dimensions': [1.59, 1.73, 4.26], 'location': [15.45, 1.69, 27.63], 'rotation_y': -3.11, 'score': None}\n",
      "{'truncated': 0.0, 'occluded': 1, 'alpha': -0.28, 'bbox': [800.97, 170.11, 984.05, 232.5], 'dimensions': [1.53, 1.7, 4.13], 'location': [7.23, 1.49, 18.88], 'rotation_y': 0.08, 'score': None}\n",
      "{'truncated': 0.0, 'occluded': 2, 'alpha': 2.93, 'bbox': [789.05, 175.9, 899.4, 210.32], 'dimensions': [1.42, 1.8, 4.25], 'location': [10.07, 1.58, 31.36], 'rotation_y': -3.05, 'score': None}\n",
      "{'truncated': 0.3, 'occluded': 3, 'alpha': 2.53, 'bbox': [1155.4, 165.57, 1241.0, 206.02], 'dimensions': [1.79, 1.71, 3.95], 'location': [27.68, 1.48, 33.1], 'rotation_y': -3.06, 'score': None}\n",
      "{'truncated': 0.0, 'occluded': 0, 'alpha': 1.97, 'bbox': [384.78, 179.3, 453.68, 212.15], 'dimensions': [1.45, 1.59, 4.28], 'location': [-8.99, 1.76, 34.22], 'rotation_y': 1.72, 'score': None}\n",
      "{'truncated': 0.0, 'occluded': 0, 'alpha': -1.6, 'bbox': [705.56, 174.86, 734.96, 200.36], 'dimensions': [1.43, 1.59, 4.21], 'location': [6.51, 1.57, 43.03], 'rotation_y': -1.45, 'score': None}\n",
      "{'truncated': 0.0, 'occluded': 1, 'alpha': 3.09, 'bbox': [885.76, 166.17, 931.63, 182.99], 'dimensions': [1.59, 1.64, 4.08], 'location': [29.46, 0.98, 71.28], 'rotation_y': -2.81, 'score': None}\n",
      "Empty!\n",
      "Empty!\n",
      "Empty!\n",
      "Empty!\n",
      "Empty!\n"
     ]
    }
   ],
   "source": [
    "\n",
    "class target(): \n",
    "    '''Stores the target as both 2D and 3D representation'''\n",
    "    ''' \n",
    "    Label comes as: This class parses this dictionary\n",
    "    {obj: 'occluded': int\n",
    "    'alpha': 0.62,\n",
    "    'bbox': [0.0, 180.58, 305.09, 333.32],\n",
    "    'dimensions': [1.52, 1.69, 3.68],\n",
    "    'location': [-5.68, 1.62, 8.12],\n",
    "    'rotation_y': 0.03,\n",
    "    'score': None}\n",
    "    '''\n",
    "    def __init__(self, valid, labeled_obj, x_min, y_min, x_max, y_max):\n",
    "        super().__init__()  \n",
    "        # Get the attributes of the 3D bounding box\n",
    "        self.occluded = labeled_obj['occluded'] if self.valid else None\n",
    "        self.x_3D, self.y_3D, self.z_3D = labeled_obj['location'] if self.valid else None\n",
    "        self.height_3D, self.width_3D, self.length_3D = labeled_obj['dimensions'] if self.valid else None\n",
    "        self.rotation = labeled_obj['rotation_y'] if self.valid else None\n",
    "        self.alpha = labeled_obj['alpha'] if self.valid else None\n",
    "        \n",
    "        # Canvas attributes:\n",
    "        self.x_min = x_min \n",
    "        self.y_min = y_min\n",
    "        self.x_max = x_max\n",
    "        self.y_max = y_max\n",
    "\n",
    "        # Rotation matrix: (NOTE: Maybe this is not needed.)\n",
    "        yaw = self.rotation\n",
    "        self.rot_mat = np.array([[np.cos(yaw), np.sin(yaw), 0.0],\n",
    "                        [-np.sin(yaw), np.cos(yaw), 0.0], [0.0, 0.0, 1.0]])\n",
    "        \n",
    "\n",
    "    def create_2d_targets(self, pillar_size: tuple):  \n",
    "        '''Maps x,y,z,h,w,l to 2D'''  \n",
    "        # TODO: Get the 3D bounding box transformed into the 2D space of the feature map:\n",
    "        self.x_2D = (self.x_3D - self.x_min) // pillar_size[0]\n",
    "        self.y_2D = (self.y_3D - self.y_min) // pillar_size[1]\n",
    "        self.width_2D = self.width_3D // pillar_size[0]\n",
    "        self.length_2D = self.length_3D // pillar_size[1]\n",
    "    \n",
    "    def create_ROI(self, margin: float):\n",
    "        '''Returns a Box2D type with ROI'''\n",
    "        ROI_box = copy.copy(self)\n",
    "        ROI_box.x_anchor = self.x_anchor - margin\n",
    "        ROI_box.y_anchor = self.y_anchor - margin\n",
    "        ROI_box.height = self.height + 2*margin\n",
    "        ROI_box.width = self.width + 2*margin\n",
    "\n",
    "        # Clamp if ROI is out of the feature_map before returning:\n",
    "        if (ROI_box.x_anchor < self.x_lims[0]): \n",
    "            ROI_box.x_anchor = self.x_lims[0]\n",
    "        elif (ROI_box.x_anchor + ROI_box.width > self.x_lims[1]):\n",
    "            ROI_box.x_anchor = self.x_lims[1]\n",
    "        \n",
    "        if (ROI_box.y_anchor < self.y_lims[0]):\n",
    "            ROI_box.y_anchor = self.y_lims[0]\n",
    "        elif (ROI_box.y_anchor + ROI_box.height > self.y_lims[1]):\n",
    "            ROI_box.y_anchor = self.y_lims[1]\n",
    "\n",
    "        return ROI_box\n",
    "\n",
    "\n",
    "roi_boxes = []\n",
    "\n",
    "# Define ROIs and add marker for visualization:\n",
    "for box in gt_boxes:\n",
    "  roi_box = box.create_ROI(margin=RADIUS_MARGIN)\n",
    "  roi_boxes.append(roi_box)\n",
    "  ax.add_patch(roi_box.create_marker())\n",
    "  ax.add_patch(box.create_marker(color='g'))\n",
    "\n",
    "\n",
    "\n",
    "# TODO: Generate targets from labels batch:\n",
    "\n",
    "for i, label in enumerate(labels): \n",
    "    '''\n",
    "    labels is a batch of label\n",
    "    label is {'Car': list(dict())}\n",
    "    '''\n",
    "    cls = DESIRED_CLASSES[0] # FIXME: Don't hardcode me\n",
    "    for car in label[cls]:\n",
    "        if car == {}:\n",
    "            continue\n",
    "        # Append target\n",
    "\n",
    "\n",
    "        \n",
    "        \n",
    "    \n",
    "\n",
    "    #if list(label.keys())[0] == DESIRED_CLASSES[0]: # FIXME: Don't hardcode desired_classes index :( )\n",
    "\n",
    "    #ipdb.set_trace()\n",
    "\n",
    "    #target_obj = target(labeled_obj=label[cls][i], x_min=X_MIN, y_min=Y_MIN, x_max=X_MAX, y_max=Y_MAX, valid=True)\n",
    "    #print(target_obj)\n",
    "\n",
    "\n",
    "\n"
   ]
  },
  {
   "cell_type": "code",
   "execution_count": 11,
   "metadata": {},
   "outputs": [],
   "source": [
    "def normalize_annotations(annotations, pillar_size):\n",
    "    # Extend num_attributes to store both original and normalized coordinates\n",
    "    num_attributes = 14  # x, y, z, h, w, l, rotation_y (both original and normalized)\n",
    "    max_annotations = max(len(a['Car']) for a in annotations)\n",
    "    \n",
    "    # Prepare the tensor for all annotations in the batch\n",
    "    batch_annotations = torch.zeros(len(annotations), max_annotations, num_attributes)\n",
    "    \n",
    "    for i, a in enumerate(annotations):\n",
    "        for j, car in enumerate(a['Car']):\n",
    "            if car:  # Check if the annotation is not empty\n",
    "                # Original coordinates\n",
    "                orig_x, orig_y, orig_z = car['location'] # FIXME: Do the transformation here\n",
    "                orig_h, orig_w, orig_l = car['dimensions']\n",
    "                orig_ry = car['rotation_y']\n",
    "                \n",
    "                # Normalize the location and dimensions to the grid size\n",
    "                norm_x = -orig_z / pillar_size[0] # Applies transform from camera to velo\n",
    "                norm_y = -orig_x / pillar_size[1] # Applies transform from camera to velo\n",
    "                norm_z = orig_z / pillar_size[0]  # Assuming Z uses the same pillar size\n",
    "                norm_h = orig_h / pillar_size[0]  # Assuming H uses the same pillar size\n",
    "                norm_w = orig_w / pillar_size[1]\n",
    "                norm_l = orig_l / pillar_size[0]\n",
    "                \n",
    "                # Fill in the tensor with both original and normalized values\n",
    "                batch_annotations[i, j] = torch.tensor([\n",
    "                    orig_x, orig_y, orig_z, orig_h, orig_w, orig_l, orig_ry,\n",
    "                    norm_x, norm_y, norm_z, norm_h, norm_w, norm_l, orig_ry  # Note: rotation_y remains the same\n",
    "                ])\n",
    "    \n",
    "    return batch_annotations\n",
    "\n"
   ]
  },
  {
   "cell_type": "code",
   "execution_count": 46,
   "metadata": {},
   "outputs": [
    {
     "name": "stdout",
     "output_type": "stream",
     "text": [
      "Car\n"
     ]
    },
    {
     "data": {
      "text/plain": [
       "str"
      ]
     },
     "execution_count": 46,
     "metadata": {},
     "output_type": "execute_result"
    }
   ],
   "source": [
    "\n"
   ]
  },
  {
   "cell_type": "markdown",
   "metadata": {},
   "source": [
    "Now, create the loss function:"
   ]
  },
  {
   "cell_type": "code",
   "execution_count": null,
   "metadata": {},
   "outputs": [],
   "source": [
    "\n",
    "class PointPillarLoss(nn.Module):\n",
    "    def __init__(self, alpha=0.25, gamma=2.0):\n",
    "        super(PointPillarLoss, self).__init__()\n",
    "        self.smooth_l1_loss = nn.SmoothL1Loss()\n",
    "        self.alpha = alpha\n",
    "        self.gamma = gamma\n",
    "\n",
    "    def forward(self, predictions, targets):\n",
    "        # Unpack predictions and targets\n",
    "        pred_boxes, pred_scores = predictions\n",
    "        gt_boxes, gt_scores = targets\n",
    "        \n",
    "        # Calculate the residuals for the boxes\n",
    "        da = torch.sqrt((pred_boxes[:, 3] - pred_boxes[:, 0])**2 + (pred_boxes[:, 4] - pred_boxes[:, 1])**2)\n",
    "        dx = (gt_boxes[:, 0] - pred_boxes[:, 0]) / da\n",
    "        dy = (gt_boxes[:, 1] - pred_boxes[:, 1]) / da\n",
    "        dz = (gt_boxes[:, 2] - pred_boxes[:, 2]) / pred_boxes[:, 5]\n",
    "        dw = torch.log(gt_boxes[:, 3] / pred_boxes[:, 3])\n",
    "        dl = torch.log(gt_boxes[:, 4] / pred_boxes[:, 4])\n",
    "        dh = torch.log(gt_boxes[:, 5] / pred_boxes[:, 5])\n",
    "        dtheta = torch.sin(gt_boxes[:, 6] - pred_boxes[:, 6])\n",
    "        \n",
    "        # Stack the residuals\n",
    "        residuals = torch.stack((dx, dy, dz, dw, dl, dh, dtheta), dim=1)\n",
    "        \n",
    "        # Calculate the SmoothL1 loss for localization\n",
    "        loc_loss = self.smooth_l1_loss(pred_boxes, residuals)\n",
    "        \n",
    "        # Calculate the Focal loss for classification\n",
    "        p = torch.sigmoid(pred_scores)\n",
    "        pt = p * gt_scores + (1 - p) * (1 - gt_scores)  # p_t\n",
    "        alpha_t = self.alpha * gt_scores + (1 - self.alpha) * (1 - gt_scores)\n",
    "        cls_loss = -alpha_t * (1 - pt) ** self.gamma * (gt_scores * torch.log(p) + (1 - gt_scores) * torch.log(1 - p))\n",
    "        \n",
    "        # Sum up the localization and classification losses\n",
    "        total_loss = loc_loss + cls_loss.sum()\n",
    "        \n",
    "        return total_loss\n",
    "\n",
    "# Example usage:\n",
    "model = ...  # Your model here\n",
    "criterion = PointPillarLoss()\n",
    "\n",
    "# Predictions from the model\n",
    "pred_boxes = ...  # Your predicted boxes here (Nx7)\n",
    "pred_scores = ...  # Your predicted scores here (Nx1)\n",
    "\n",
    "# Targets\n",
    "gt_boxes = ...  # Your ground truth boxes here (Nx7)\n",
    "gt_scores = ...  # Your ground truth scores here (Nx1)\n",
    "\n",
    "# Compute the loss\n",
    "loss = criterion((pred_boxes, pred_scores), (gt_boxes, gt_scores))\n",
    "\n"
   ]
  },
  {
   "cell_type": "code",
   "execution_count": null,
   "metadata": {},
   "outputs": [],
   "source": []
  }
 ],
 "metadata": {
  "kernelspec": {
   "display_name": "Python 3 (ipykernel)",
   "language": "python",
   "name": "python3"
  },
  "language_info": {
   "codemirror_mode": {
    "name": "ipython",
    "version": 3
   },
   "file_extension": ".py",
   "mimetype": "text/x-python",
   "name": "python",
   "nbconvert_exporter": "python",
   "pygments_lexer": "ipython3",
   "version": "3.8.18"
  }
 },
 "nbformat": 4,
 "nbformat_minor": 5
}
